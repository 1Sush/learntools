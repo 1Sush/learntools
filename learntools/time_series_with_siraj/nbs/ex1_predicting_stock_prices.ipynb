{
 "cells": [
  {
   "cell_type": "markdown",
   "metadata": {
    "_uuid": "58cdb57495bc6ad17a268ec31dc4a9c26007b799"
   },
   "source": [
    "# The Challenge\n",
    "Can you improve the model by modifying Siraj's code in steps 2 and 3 below?\n",
    "\n",
    "You can try adding layers, adjusting dropout, changing the optimization strategy. Get creative!\n",
    "\n",
    "# Step 0\n",
    "Run the cell below to load some utility functions. Feel free not to read this cell. It's just set-up for the interesting part."
   ]
  },
  {
   "cell_type": "code",
   "execution_count": 1,
   "metadata": {
    "_kg_hide-input": false,
    "_kg_hide-output": false,
    "_uuid": "c92a33bb08524fd8eb999dbc7150ecdc85ec2078"
   },
   "outputs": [
    {
     "name": "stderr",
     "output_type": "stream",
     "text": [
      "/Users/danbecker/anaconda/lib/python3.6/site-packages/h5py/__init__.py:34: FutureWarning: Conversion of the second argument of issubdtype from `float` to `np.floating` is deprecated. In future, it will be treated as `np.float64 == np.dtype(float).type`.\n",
      "  from ._conv import register_converters as _register_converters\n",
      "Using TensorFlow backend.\n"
     ]
    },
    {
     "ename": "ImportError",
     "evalue": "cannot import name 'ml_insights'",
     "output_type": "error",
     "traceback": [
      "\u001b[0;31m---------------------------------------------------------------------------\u001b[0m",
      "\u001b[0;31mImportError\u001b[0m                               Traceback (most recent call last)",
      "\u001b[0;32m<ipython-input-1-cdbc6e13cbb1>\u001b[0m in \u001b[0;36m<module>\u001b[0;34m()\u001b[0m\n\u001b[1;32m      6\u001b[0m \u001b[0;32mimport\u001b[0m \u001b[0mmatplotlib\u001b[0m\u001b[0;34m.\u001b[0m\u001b[0mpyplot\u001b[0m \u001b[0;32mas\u001b[0m \u001b[0mplt\u001b[0m\u001b[0;34m\u001b[0m\u001b[0m\n\u001b[1;32m      7\u001b[0m \u001b[0;34m\u001b[0m\u001b[0m\n\u001b[0;32m----> 8\u001b[0;31m \u001b[0;32mfrom\u001b[0m \u001b[0mlearntools\u001b[0m\u001b[0;34m.\u001b[0m\u001b[0mtime_series_with_siraj\u001b[0m\u001b[0;34m.\u001b[0m\u001b[0mex1\u001b[0m \u001b[0;32mimport\u001b[0m \u001b[0;34m*\u001b[0m\u001b[0;34m\u001b[0m\u001b[0m\n\u001b[0m\u001b[1;32m      9\u001b[0m \u001b[0;34m\u001b[0m\u001b[0m\n\u001b[1;32m     10\u001b[0m \u001b[0;32mdef\u001b[0m \u001b[0mload_data\u001b[0m\u001b[0;34m(\u001b[0m\u001b[0mfilename\u001b[0m\u001b[0;34m,\u001b[0m \u001b[0mseq_len\u001b[0m\u001b[0;34m,\u001b[0m \u001b[0mnormalise_window\u001b[0m\u001b[0;34m)\u001b[0m\u001b[0;34m:\u001b[0m\u001b[0;34m\u001b[0m\u001b[0m\n",
      "\u001b[0;32m/Users/danbecker/Desktop/learntools/learntools/__init__.py\u001b[0m in \u001b[0;36m<module>\u001b[0;34m()\u001b[0m\n\u001b[0;32m----> 1\u001b[0;31m \u001b[0;32mfrom\u001b[0m \u001b[0;34m.\u001b[0m \u001b[0;32mimport\u001b[0m \u001b[0madvanced_pandas\u001b[0m\u001b[0;34m,\u001b[0m \u001b[0mcore\u001b[0m\u001b[0;34m,\u001b[0m \u001b[0mdeep_learning\u001b[0m\u001b[0;34m,\u001b[0m \u001b[0mgans\u001b[0m\u001b[0;34m,\u001b[0m \u001b[0mmachine_learning\u001b[0m\u001b[0;34m,\u001b[0m \u001b[0mpython\u001b[0m\u001b[0;34m,\u001b[0m \u001b[0membeddings\u001b[0m\u001b[0;34m,\u001b[0m \u001b[0mml_insights\u001b[0m\u001b[0;34m\u001b[0m\u001b[0m\n\u001b[0m\u001b[1;32m      2\u001b[0m \u001b[0;34m\u001b[0m\u001b[0m\n\u001b[1;32m      3\u001b[0m \u001b[0m__version__\u001b[0m \u001b[0;34m=\u001b[0m \u001b[0;34m'0.2.5'\u001b[0m\u001b[0;34m\u001b[0m\u001b[0m\n",
      "\u001b[0;31mImportError\u001b[0m: cannot import name 'ml_insights'"
     ]
    }
   ],
   "source": [
    "import numpy as np\n",
    "from numpy import newaxis\n",
    "from keras.layers.core import Dense, Activation, Dropout\n",
    "from keras.layers.recurrent import LSTM\n",
    "from keras.models import Sequential\n",
    "import matplotlib.pyplot as plt\n",
    "\n",
    "from learntools.time_series_with_siraj.ex1 import *\n",
    "    \n",
    "def load_data(filename, seq_len, normalise_window):\n",
    "    f = open(filename, 'r').read()\n",
    "    data = f.split('\\n')\n",
    "\n",
    "    sequence_length = seq_len + 1\n",
    "    result = []\n",
    "    for index in range(len(data) - sequence_length):\n",
    "        result.append(data[index: index + sequence_length])\n",
    "    \n",
    "    if normalise_window:\n",
    "        result = normalise_windows(result)\n",
    "\n",
    "    result = np.array(result)\n",
    "\n",
    "    row = round(0.9 * result.shape[0])\n",
    "    train = result[:int(row), :]\n",
    "    np.random.shuffle(train)\n",
    "    x_train = train[:, :-1]\n",
    "    y_train = train[:, -1]\n",
    "    x_test = result[int(row):, :-1]\n",
    "    y_test = result[int(row):, -1]\n",
    "\n",
    "    x_train = np.reshape(x_train, (x_train.shape[0], x_train.shape[1], 1))\n",
    "    x_test = np.reshape(x_test, (x_test.shape[0], x_test.shape[1], 1))  \n",
    "\n",
    "    return [x_train, y_train, x_test, y_test]\n",
    "\n",
    "\n",
    "def normalise_windows(window_data):\n",
    "    normalised_data = []\n",
    "    for window in window_data:\n",
    "        normalised_window = [((float(p) / float(window[0])) - 1) for p in window]\n",
    "        normalised_data.append(normalised_window)\n",
    "    return normalised_data"
   ]
  },
  {
   "cell_type": "markdown",
   "metadata": {
    "_uuid": "5088b4f67db2b4c343444d600c81133d5ed62de7"
   },
   "source": [
    "# Step 1: Review Data\n",
    "\n",
    "The code cell below loads your training and test data. Do a quick overview of the data to make sure you understand it."
   ]
  },
  {
   "cell_type": "code",
   "execution_count": null,
   "metadata": {
    "_kg_hide-output": false,
    "_uuid": "4dd05645f40dd9cca9245e00fc3e7af55d540ee9"
   },
   "outputs": [],
   "source": [
    "X_train, y_train, X_test, y_test = load_data('../input/sp500.csv', 50, True)\n",
    "\n",
    "# Your exploratory data analysis code below"
   ]
  },
  {
   "cell_type": "markdown",
   "metadata": {
    "_uuid": "d6f27a9712263bfe1c57e5accca69f2e82a1f84c"
   },
   "source": [
    "# Step 2: Specify and Fit Your Model\n",
    "\n",
    "We have a code cell below to specify and fit Siraj's model. Run this cell without modifying it, so you can compare your results to his.\n",
    "\n",
    "After you run his code, we'll have space for you to create your own model."
   ]
  },
  {
   "cell_type": "code",
   "execution_count": null,
   "metadata": {
    "_kg_hide-output": false,
    "_uuid": "54e09ea0878f53a1735e7b7813ab7a226374957b"
   },
   "outputs": [],
   "source": [
    "siraj_model = Sequential()\n",
    "\n",
    "siraj_model.add(LSTM(\n",
    "    input_shape=(None, 1),\n",
    "    units=50,\n",
    "    return_sequences=True))\n",
    "siraj_model.add(Dropout(0.2))\n",
    "\n",
    "siraj_model.add(LSTM(100, return_sequences=False))\n",
    "siraj_model.add(Dropout(0.2))\n",
    "\n",
    "siraj_model.add(Dense(1))\n",
    "siraj_model.add(Activation('linear'))\n",
    "\n",
    "siraj_model.compile(loss='mse', optimizer='rmsprop')\n",
    "\n",
    "\n",
    "siraj_model.fit(\n",
    "    X_train,\n",
    "    y_train,\n",
    "    batch_size=512,\n",
    "    epochs=1,\n",
    "    validation_split=0.05)"
   ]
  },
  {
   "cell_type": "markdown",
   "metadata": {
    "_uuid": "573ceb3206dacf45115a4cefc9c4ecc226a5264c"
   },
   "source": [
    "**Create your model in the cell below.**"
   ]
  },
  {
   "cell_type": "code",
   "execution_count": null,
   "metadata": {
    "_uuid": "dd6bbd19634d81b5fb798639248c1a95a9ecc960"
   },
   "outputs": [],
   "source": [
    "# Fill in the specification for your model\n",
    "my_model = ____\n",
    "\n",
    "# Fill in how you'd like to compile your model\n",
    "my_model.compile(____)\n",
    "\n",
    "# Fill in the parameters to fit your model\n",
    "my_model.fit(\n",
    "    X_train,\n",
    "    y_train,\n",
    "    batch_size=____,   # Fill this in\n",
    "    epochs=____,       # Fill this in\n",
    "    validation_split=0.05)"
   ]
  },
  {
   "cell_type": "markdown",
   "metadata": {
    "_uuid": "1072e0ca7bb5a48e31c55ecdb4f25bc175b1120f"
   },
   "source": [
    "# Step 3: Visualize The Results\n",
    "\n",
    "First, here is a plot of the results from Siraj's model:\n"
   ]
  },
  {
   "cell_type": "code",
   "execution_count": null,
   "metadata": {
    "_kg_hide-output": false,
    "_uuid": "64e44ba85f722664e6585a9fe481b5440d43b7bf"
   },
   "outputs": [],
   "source": [
    "siraj_predictions = predict_sequences_multiple(siraj_model, X_test, 50, 50)\n",
    "plot_results_multiple(siraj_predictions, y_test, 50)"
   ]
  },
  {
   "cell_type": "markdown",
   "metadata": {
    "_uuid": "c788d3649fd26304e0b93606bb2ec0716fe06a4b"
   },
   "source": [
    "Now, your predictions"
   ]
  },
  {
   "cell_type": "code",
   "execution_count": null,
   "metadata": {
    "_uuid": "d220d0e96015e86ea0f6faaadaadd4f7cc9af40a"
   },
   "outputs": [],
   "source": [
    "my_predictions = predict_sequences_multiple(my_model, X_test, 50, 50)\n",
    "plot_results_multiple(my_predictions, y_test, 50)"
   ]
  }
 ],
 "metadata": {
  "kernelspec": {
   "display_name": "Python 3",
   "language": "python",
   "name": "python3"
  },
  "language_info": {
   "codemirror_mode": {
    "name": "ipython",
    "version": 3
   },
   "file_extension": ".py",
   "mimetype": "text/x-python",
   "name": "python",
   "nbconvert_exporter": "python",
   "pygments_lexer": "ipython3",
   "version": "3.6.1"
  }
 },
 "nbformat": 4,
 "nbformat_minor": 2
}
