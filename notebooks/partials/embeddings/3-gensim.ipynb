{
 "cells": [
  {
   "cell_type": "markdown",
   "metadata": {},
   "source": [
    "Earlier we trained a model to predict the ratings users would give to movies using a network with embeddings learned for each movie and user. Embeddings are powerful! But how do they actually work? \n",
    "\n",
    "Previously, I claimed that embeddings capture the 'meaning' of the objects they represent, and discover useful latent structure. Let's put that to the test!\n",
    "\n",
    "# Looking up embeddings\n",
    "\n",
    "Let's load a model we trained earlier so we can investigate the embedding weights that it learned."
   ]
  },
  {
   "cell_type": "code",
   "execution_count": 2,
   "metadata": {},
   "outputs": [
    {
     "name": "stdout",
     "output_type": "stream",
     "text": [
      "WARNING:tensorflow:No training configuration found in save file: the model was *not* compiled. Compile it manually.\n",
      "__________________________________________________________________________________________________\n",
      "Layer (type)                    Output Shape         Param #     Connected to                     \n",
      "==================================================================================================\n",
      "user_id (InputLayer)            (None, 1)            0                                            \n",
      "__________________________________________________________________________________________________\n",
      "movie_id (InputLayer)           (None, 1)            0                                            \n",
      "__________________________________________________________________________________________________\n",
      "user_embedding (Embedding)      (None, 1, 32)        4431808     user_id[0][0]                    \n",
      "__________________________________________________________________________________________________\n",
      "movie_embedding (Embedding)     (None, 1, 32)        855808      movie_id[0][0]                   \n",
      "__________________________________________________________________________________________________\n",
      "movie_bias (Embedding)          (None, 1, 1)         26744       movie_id[0][0]                   \n",
      "__________________________________________________________________________________________________\n",
      "dot (Dot)                       (None, 1, 1)         0           user_embedding[0][0]             \n",
      "                                                                 movie_embedding[0][0]            \n",
      "__________________________________________________________________________________________________\n",
      "user_bias (Embedding)           (None, 1, 1)         138494      user_id[0][0]                    \n",
      "__________________________________________________________________________________________________\n",
      "flatten_1 (Flatten)             (None, 1)            0           movie_bias[0][0]                 \n",
      "__________________________________________________________________________________________________\n",
      "flatten (Flatten)               (None, 1)            0           dot[0][0]                        \n",
      "__________________________________________________________________________________________________\n",
      "flatten_2 (Flatten)             (None, 1)            0           user_bias[0][0]                  \n",
      "__________________________________________________________________________________________________\n",
      "add (Add)                       (None, 1)            0           flatten_1[0][0]                  \n",
      "                                                                 flatten[0][0]                    \n",
      "__________________________________________________________________________________________________\n",
      "add_1 (Add)                     (None, 1)            0           flatten_2[0][0]                  \n",
      "                                                                 add[0][0]                        \n",
      "==================================================================================================\n",
      "Total params: 5,452,854\n",
      "Trainable params: 5,452,854\n",
      "Non-trainable params: 0\n",
      "__________________________________________________________________________________________________\n"
     ]
    }
   ],
   "source": [
    "import os\n",
    "\n",
    "import numpy as np\n",
    "import pandas as pd\n",
    "from matplotlib import pyplot as plt\n",
    "import tensorflow as tf\n",
    "from tensorflow import keras\n",
    "\n",
    "RUNNING_ON_KERNELS = 'KAGGLE_WORKING_DIR' in os.environ\n",
    "input_dir = '../input/0-movielens-preprocessing' if RUNNING_ON_KERNELS else '../input/movielens_preprocessed'\n",
    "model_dir = '../input/x3-movielens-spiffy-model' if RUNNING_ON_KERNELS else '.'\n",
    "model_path = os.path.join(model_dir, 'movie_svd_model_32.h5')\n",
    "#model = keras.models.load_model('movie_svd_model_8_v2.h5')\n",
    "model = keras.models.load_model(model_path)\n",
    "model.summary()"
   ]
  },
  {
   "cell_type": "markdown",
   "metadata": {},
   "source": [
    "The embedding weights are part of the model's internals, so we'll have to do a bit of digging around to access them. We'll grab the layer responsible for embedding movies, and use the `get_weights()` method to get its learned weights."
   ]
  },
  {
   "cell_type": "code",
   "execution_count": 3,
   "metadata": {},
   "outputs": [
    {
     "data": {
      "text/plain": [
       "(26744, 32)"
      ]
     },
     "execution_count": 3,
     "metadata": {},
     "output_type": "execute_result"
    }
   ],
   "source": [
    "emb_layer = model.get_layer('movie_embedding')\n",
    "(w,) = emb_layer.get_weights()\n",
    "w.shape"
   ]
  },
  {
   "cell_type": "markdown",
   "metadata": {},
   "source": [
    "Our weight matrix has 26,744 rows for that many movies. Each row is 32 numbers - the size of our movie embeddings.\n",
    "\n",
    "Let's look at an example movie vector:"
   ]
  },
  {
   "cell_type": "code",
   "execution_count": 4,
   "metadata": {},
   "outputs": [
    {
     "data": {
      "text/plain": [
       "array([-0.33853766, -0.4146362 ,  0.1623646 ,  0.50178075,  0.16071211,\n",
       "       -0.16824646, -1.2413633 ,  0.6934318 , -0.79779387, -0.02712124,\n",
       "       -0.04582484, -0.700483  , -0.51075536,  0.55907726, -0.13546772,\n",
       "       -0.7331561 , -0.01410303,  1.1877884 ,  0.5516961 , -0.10908557,\n",
       "       -0.6856427 , -0.13831832,  1.1474288 , -0.1690759 , -0.04500233,\n",
       "        0.40393695, -0.43479416, -0.36175066, -0.40691528,  0.15359668,\n",
       "       -1.0017278 , -0.43102026], dtype=float32)"
      ]
     },
     "execution_count": 4,
     "metadata": {},
     "output_type": "execute_result"
    }
   ],
   "source": [
    "w[0]"
   ]
  },
  {
   "cell_type": "markdown",
   "metadata": {},
   "source": [
    "What movie is this the embedding of? Let's load up our dataframe of movie metadata."
   ]
  },
  {
   "cell_type": "code",
   "execution_count": null,
   "metadata": {},
   "outputs": [],
   "source": [
    "movies_path = os.path.join(input_dir, 'movie.csv')\n",
    "movies_df = pd.read_csv(movies_path, index_col=0)\n",
    "movies_df.head()"
   ]
  },
  {
   "cell_type": "markdown",
   "metadata": {},
   "source": [
    "Of course, it's *Toy Story*! I should have recognized that vector anywhere.\n",
    "\n",
    "Okay, I'm being facetious. It's hard to make anything of these vectors at this point. We never directed the model about how to use any particular embedding dimension. We left it alone to learn whatever representation it found useful.\n",
    "\n",
    "So how do we check whether these representations are sane and coherent?\n",
    "\n",
    "## Vector similarity\n",
    "\n",
    "A simple way to test this is to look at how close or distant pairs of movies are in the embedding space. Embeddings can be thought of as a smart distance metric. If our embedding matrix is any good, it should map similar movies (like *Toy Story* and *Shrek*) to similar vectors."
   ]
  },
  {
   "cell_type": "code",
   "execution_count": 6,
   "metadata": {},
   "outputs": [
    {
     "name": "stdout",
     "output_type": "stream",
     "text": [
      "[-0.33853766 -0.4146362   0.1623646   0.50178075  0.16071211 -0.16824646\n",
      " -1.2413633   0.6934318  -0.79779387 -0.02712124 -0.04582484 -0.700483\n",
      " -0.51075536  0.55907726 -0.13546772 -0.7331561  -0.01410303  1.1877884\n",
      "  0.5516961  -0.10908557 -0.6856427  -0.13831832  1.1474288  -0.1690759\n",
      " -0.04500233  0.40393695 -0.43479416 -0.36175066 -0.40691528  0.15359668\n",
      " -1.0017278  -0.43102026]\n",
      "[-0.14501241  0.38190323  0.33974665  0.10670913  0.29868233  0.51298016\n",
      " -1.001472    0.99781567 -0.53581023 -0.08761381 -0.2953611  -0.6223411\n",
      " -0.25792935  0.47818306  0.47391957 -0.4300383  -0.38145897  0.63624847\n",
      " -0.14488064  0.3077913  -0.08880541 -0.5605316   0.02790316  0.21299955\n",
      "  0.11481046  0.68308973  0.66193867 -0.40429035 -0.7823577   0.66591966\n",
      " -0.53341657 -0.27222055]\n"
     ]
    }
   ],
   "source": [
    "i_toy_story = 0\n",
    "i_shrek = movies_df.loc[\n",
    "    movies_df.title == 'Shrek',\n",
    "    'movieId'\n",
    "].iloc[0]\n",
    "\n",
    "toy_story_vec = w[i_toy_story]\n",
    "shrek_vec = w[i_shrek]\n",
    "\n",
    "print(\n",
    "    toy_story_vec,\n",
    "    shrek_vec,\n",
    "    sep='\\n',\n",
    ")"
   ]
  },
  {
   "cell_type": "markdown",
   "metadata": {},
   "source": [
    "These look generally similar! If we wanted to assign a single number to their similarity, we could calculate the euclidean distance between these two vectors. (This is our conventional 'as the crow flies' notion of distance between two points. Easy to grok in 1, 2, or 3 dimensions. Mathematically, we can also extend it to 32 dimensions, though good luck visualizing it.)"
   ]
  },
  {
   "cell_type": "code",
   "execution_count": 1,
   "metadata": {},
   "outputs": [
    {
     "ename": "NameError",
     "evalue": "name 'toy_story_vec' is not defined",
     "output_type": "error",
     "traceback": [
      "\u001b[0;31m---------------------------------------------------------------------------\u001b[0m",
      "\u001b[0;31mNameError\u001b[0m                                 Traceback (most recent call last)",
      "\u001b[0;32m<ipython-input-1-098e2b520254>\u001b[0m in \u001b[0;36m<module>\u001b[0;34m()\u001b[0m\n\u001b[1;32m      1\u001b[0m \u001b[0;32mfrom\u001b[0m \u001b[0mscipy\u001b[0m\u001b[0;34m.\u001b[0m\u001b[0mspatial\u001b[0m \u001b[0;32mimport\u001b[0m \u001b[0mdistance\u001b[0m\u001b[0;34m\u001b[0m\u001b[0m\n\u001b[1;32m      2\u001b[0m \u001b[0;34m\u001b[0m\u001b[0m\n\u001b[0;32m----> 3\u001b[0;31m \u001b[0mdistance\u001b[0m\u001b[0;34m.\u001b[0m\u001b[0meuclidean\u001b[0m\u001b[0;34m(\u001b[0m\u001b[0mtoy_story_vec\u001b[0m\u001b[0;34m,\u001b[0m \u001b[0mshrek_vec\u001b[0m\u001b[0;34m)\u001b[0m\u001b[0;34m\u001b[0m\u001b[0m\n\u001b[0m",
      "\u001b[0;31mNameError\u001b[0m: name 'toy_story_vec' is not defined"
     ]
    }
   ],
   "source": [
    "from scipy.spatial import distance\n",
    "\n",
    "distance.euclidean(toy_story_vec, shrek_vec)"
   ]
  },
  {
   "cell_type": "markdown",
   "metadata": {},
   "source": [
    "How does this compare to a pair of movies that we would think of as very different?"
   ]
  },
  {
   "cell_type": "code",
   "execution_count": 9,
   "metadata": {},
   "outputs": [
    {
     "name": "stdout",
     "output_type": "stream",
     "text": [
      "Toy Story:\n",
      "[-0.33853766 -0.4146362   0.1623646   0.50178075  0.16071211 -0.16824646\n",
      " -1.2413633   0.6934318  -0.79779387 -0.02712124 -0.04582484 -0.700483\n",
      " -0.51075536  0.55907726 -0.13546772 -0.7331561  -0.01410303  1.1877884\n",
      "  0.5516961  -0.10908557 -0.6856427  -0.13831832  1.1474288  -0.1690759\n",
      " -0.04500233  0.40393695 -0.43479416 -0.36175066 -0.40691528  0.15359668\n",
      " -1.0017278  -0.43102026]\n",
      "The Exorcist:\n",
      "[-0.48039156 -0.5364228   0.20817241 -0.73291785 -0.05619409  0.05894614\n",
      "  0.1316456  -0.14783028  0.22751398 -0.2714083  -0.39914957 -0.3958874\n",
      "  0.7817501  -0.16066262  0.03851374  0.04804222 -1.8531514  -0.19662409\n",
      "  0.15619414  0.8513164   0.5270438   0.21442115 -0.2165486  -0.47107786\n",
      " -0.8162815   0.11464956 -0.59268594  0.04401499 -0.5136618  -1.4066666\n",
      " -0.43677568 -0.07259946]\n",
      "Distance = 4.700692653656006 (euclidean), 1.0603957809507847 (cosine)\n"
     ]
    }
   ],
   "source": [
    "i_exorcist = movies_df.loc[\n",
    "    movies_df.title == 'The Exorcist',\n",
    "    'movieId'\n",
    "].iloc[0]\n",
    "\n",
    "exorcist_vec = w[i_exorcist]\n",
    "\n",
    "distance.euclidean(toy_story_vec, exorcist_vec)"
   ]
  },
  {
   "cell_type": "markdown",
   "metadata": {},
   "source": [
    "As expected, much further apart.\n",
    "\n",
    "## Cosine Distance\n",
    "\n",
    "If you check out [the docs for the `scipy.spatial` module](https://docs.scipy.org/doc/scipy-0.14.0/reference/spatial.distance.html), you'll see there are actually a *lot* of different measures of distance that people use for different tasks.\n",
    "\n",
    "When judging the similarity of embeddings, it's more common to use [cosine similarity](https://en.wikipedia.org/wiki/Cosine_similarity).\n",
    "\n",
    "In brief, the cosine similarity of two vectors ranges from -1 to 1, and is a function of the *angle* between the vectors. If two vectors point in the same direction, their cosine similarity is 1. If they point in opposite directions, it's -1. If they're orthogonal (i.e. at right angles), their cosine similarity is 0.\n",
    "\n",
    "Cosine distance is just defined as 1 minus the cosine similarity (and therefore ranges from 0 to 2).\n",
    "\n",
    "Let's calculate a couple cosine distances between movie vectors:"
   ]
  },
  {
   "cell_type": "code",
   "execution_count": 1,
   "metadata": {},
   "outputs": [
    {
     "ename": "NameError",
     "evalue": "name 'distance' is not defined",
     "output_type": "error",
     "traceback": [
      "\u001b[0;31m---------------------------------------------------------------------------\u001b[0m",
      "\u001b[0;31mNameError\u001b[0m                                 Traceback (most recent call last)",
      "\u001b[0;32m<ipython-input-1-f7a1b32811ba>\u001b[0m in \u001b[0;36m<module>\u001b[0;34m()\u001b[0m\n\u001b[1;32m      1\u001b[0m print(\n\u001b[0;32m----> 2\u001b[0;31m     \u001b[0mdistance\u001b[0m\u001b[0;34m.\u001b[0m\u001b[0mcosine\u001b[0m\u001b[0;34m(\u001b[0m\u001b[0mtoy_story_vec\u001b[0m\u001b[0;34m,\u001b[0m \u001b[0mshrek_vec\u001b[0m\u001b[0;34m)\u001b[0m\u001b[0;34m,\u001b[0m\u001b[0;34m\u001b[0m\u001b[0m\n\u001b[0m\u001b[1;32m      3\u001b[0m     \u001b[0mdistance\u001b[0m\u001b[0;34m.\u001b[0m\u001b[0mcosine\u001b[0m\u001b[0;34m(\u001b[0m\u001b[0mtoy_story_vec\u001b[0m\u001b[0;34m,\u001b[0m \u001b[0mexorcist_vec\u001b[0m\u001b[0;34m)\u001b[0m\u001b[0;34m,\u001b[0m\u001b[0;34m\u001b[0m\u001b[0m\n\u001b[1;32m      4\u001b[0m     \u001b[0msep\u001b[0m\u001b[0;34m=\u001b[0m\u001b[0;34m'\\n'\u001b[0m\u001b[0;34m\u001b[0m\u001b[0m\n\u001b[1;32m      5\u001b[0m )\n",
      "\u001b[0;31mNameError\u001b[0m: name 'distance' is not defined"
     ]
    }
   ],
   "source": [
    "print(\n",
    "    distance.cosine(toy_story_vec, shrek_vec),\n",
    "    distance.cosine(toy_story_vec, exorcist_vec),\n",
    "    sep='\\n'\n",
    ")"
   ]
  },
  {
   "cell_type": "markdown",
   "metadata": {},
   "source": [
    "> **Aside:** *Why* is cosine distance commonly used when working with embeddings? The short answer, as with so many deep learning techniques, is \"empirically, it works well\". In the exercise coming up, you'll get to do a little hands-on investigation that digs into this question more deeply.\n",
    "\n",
    "Which movies are most similar to *Toy Story*? Which movies fall right between *Psycho* and *Scream* in the embedding space? We could write a bunch of code to work out questions like this, but it'd be pretty tedious. Fortunately, there's already a library for exactly this sort of work: **Gensim**.\n",
    "\n",
    "# Exploring embeddings with Gensim\n",
    "\n",
    "I'll instantiate an instance of [`WordEmbeddingsKeyedVectors`](https://radimrehurek.com/gensim/models/keyedvectors.html#gensim.models.keyedvectors.WordEmbeddingsKeyedVectors) with our model's movie embeddings and the titles of the corresponding movies.\n",
    "\n",
    "> Aside: You may notice that Gensim's docs and many of its class and method names refer to *word* embeddings. While the library is most frequently used in the text domain, we can use it to explore embeddings of any sort."
   ]
  },
  {
   "cell_type": "code",
   "execution_count": 10,
   "metadata": {},
   "outputs": [],
   "source": [
    "from gensim.models.keyedvectors import WordEmbeddingsKeyedVectors\n",
    "\n",
    "# Limit to movies with at least this many ratings in the dataset\n",
    "threshold = 100\n",
    "mainstream_movies = movies_df[movies_df.n_ratings >= threshold].reset_index(drop=True)\n",
    "\n",
    "movie_embedding_size = w.shape[1]\n",
    "kv = WordEmbeddingsKeyedVectors(movie_embedding_size)\n",
    "kv.add(\n",
    "    mainstream_movies['key'].values,\n",
    "    w[mainstream_movies.movieId]\n",
    ")\n",
    "\n",
    "# TODO: could be kind of nice if we could default to using the title \n",
    "# as key when it's unambiguous, and the year-augmented keys when\n",
    "# necessary.\n",
    "def k(title):\n",
    "    \"\"\"Helper to resolve a base movie title to its unique key.\"\"\"\n",
    "    matches = movies_df[movies_df['title']==title]\n",
    "    assert len(matches) == 1, len(matches)\n",
    "    return matches.iloc[0]['key']"
   ]
  },
  {
   "cell_type": "markdown",
   "metadata": {},
   "source": [
    "Okay, so which movies are most similar to *Toy Story*?"
   ]
  },
  {
   "cell_type": "code",
   "execution_count": 11,
   "metadata": {},
   "outputs": [
    {
     "name": "stderr",
     "output_type": "stream",
     "text": [
      "/home/colinmorris/.local/lib/python3.5/site-packages/gensim/matutils.py:737: FutureWarning: Conversion of the second argument of issubdtype from `int` to `np.signedinteger` is deprecated. In future, it will be treated as `np.int64 == np.dtype(int).type`.\n",
      "  if np.issubdtype(vec.dtype, np.int):\n"
     ]
    },
    {
     "data": {
      "text/plain": [
       "[('Toy Story 2 (1999)', 0.9668039083480835),\n",
       " ('Monsters, Inc. (2001)', 0.8768452405929565),\n",
       " (\"Bug's Life, A (1998)\", 0.8742560148239136),\n",
       " ('Finding Nemo (2003)', 0.8684772253036499),\n",
       " ('Toy Story 3 (2010)', 0.8677495718002319),\n",
       " ('Incredibles, The (2004)', 0.8582932949066162),\n",
       " ('Ratatouille (2007)', 0.7599791288375854),\n",
       " ('Up (2009)', 0.7554174661636353),\n",
       " ('Lion King, The (1994)', 0.7251849174499512),\n",
       " ('Aladdin (1992)', 0.7034016251564026)]"
      ]
     },
     "execution_count": 11,
     "metadata": {},
     "output_type": "execute_result"
    }
   ],
   "source": [
    "# TODO: Maybe write some nice little wrapper around this method that takes care of resolving titles\n",
    "# to keys, and nicely formats the output (maybe as a dataframe? Or even a little horizontal bar chart.)\n",
    "kv.most_similar(k('Toy Story'))"
   ]
  },
  {
   "cell_type": "markdown",
   "metadata": {},
   "source": [
    "Wow, these are pretty great! It makes perfect sense that *Toy Story 2* is the most similar movie to *Toy Story*. And most of the rest are animated kids movies with a similar computer-animated style."
   ]
  },
  {
   "cell_type": "markdown",
   "metadata": {},
   "source": [
    "#### DB: I'd cut it here. Users clearly learn something by seeing the comparison once. But unless they are curious about movies (which generally isn't what users are coming to our courses for), I'm skeptical they'll get much value out of seeing this for different movies. For those who are interested in exploring the movie space, it'd be fun to include a reminder to do this in the exercises page, so they can do it for movies of their choosing in edit mode.\n",
    "\n",
    "So it's learned something about 3-d animated kids flicks, but let's try a few more to make sure that wasn't a fluke.\n",
    "\n",
    "What about artsy erotic dramas?"
   ]
  },
  {
   "cell_type": "code",
   "execution_count": 12,
   "metadata": {},
   "outputs": [
    {
     "name": "stderr",
     "output_type": "stream",
     "text": [
      "/home/colinmorris/.local/lib/python3.5/site-packages/gensim/matutils.py:737: FutureWarning: Conversion of the second argument of issubdtype from `int` to `np.signedinteger` is deprecated. In future, it will be treated as `np.int64 == np.dtype(int).type`.\n",
      "  if np.issubdtype(vec.dtype, np.int):\n"
     ]
    },
    {
     "data": {
      "text/plain": [
       "[('Mulholland Drive (2001)', 0.8159981966018677),\n",
       " ('Lost Highway (1997)', 0.731342077255249),\n",
       " ('Barry Lyndon (1975)', 0.6611681580543518),\n",
       " ('Exotica (1994)', 0.650924563407898),\n",
       " ('Twin Peaks: Fire Walk with Me (1992)', 0.6277767419815063),\n",
       " ('Solaris (2002)', 0.6273046731948853),\n",
       " ('Magnolia (1999)', 0.6238169074058533),\n",
       " ('Match Point (2005)', 0.6146119832992554),\n",
       " ('Closer (2004)', 0.6053546667098999),\n",
       " ('Inland Empire (2006)', 0.585962176322937)]"
      ]
     },
     "execution_count": 12,
     "metadata": {},
     "output_type": "execute_result"
    }
   ],
   "source": [
    "kv.most_similar(k('Eyes Wide Shut'))"
   ]
  },
  {
   "cell_type": "markdown",
   "metadata": {},
   "source": [
    "Nailed it.\n",
    "\n",
    "Raunchy sophomoric comedy?"
   ]
  },
  {
   "cell_type": "code",
   "execution_count": 13,
   "metadata": {},
   "outputs": [
    {
     "name": "stderr",
     "output_type": "stream",
     "text": [
      "/home/colinmorris/.local/lib/python3.5/site-packages/gensim/matutils.py:737: FutureWarning: Conversion of the second argument of issubdtype from `int` to `np.signedinteger` is deprecated. In future, it will be treated as `np.int64 == np.dtype(int).type`.\n",
      "  if np.issubdtype(vec.dtype, np.int):\n"
     ]
    },
    {
     "data": {
      "text/plain": [
       "[('American Pie 2 (2001)', 0.9293572902679443),\n",
       " ('Road Trip (2000)', 0.8612767457962036),\n",
       " ('American Wedding (American Pie 3) (2003)', 0.8007140159606934),\n",
       " (\"There's Something About Mary (1998)\", 0.7459080219268799),\n",
       " (\"Porky's (1982)\", 0.7170787453651428),\n",
       " ('Varsity Blues (1999)', 0.6828464269638062),\n",
       " ('Wedding Crashers (2005)', 0.6678208112716675),\n",
       " ('Scary Movie (2000)', 0.6587681770324707),\n",
       " ('Fast Times at Ridgemont High (1982)', 0.6415641903877258),\n",
       " ('Not Another Teen Movie (2001)', 0.6381173729896545)]"
      ]
     },
     "execution_count": 13,
     "metadata": {},
     "output_type": "execute_result"
    }
   ],
   "source": [
    "kv.most_similar(k('American Pie'))"
   ]
  },
  {
   "cell_type": "markdown",
   "metadata": {},
   "source": [
    "Pretty good.\n",
    "\n",
    "Light-hearted old-school musicals?"
   ]
  },
  {
   "cell_type": "code",
   "execution_count": 14,
   "metadata": {},
   "outputs": [
    {
     "name": "stderr",
     "output_type": "stream",
     "text": [
      "/home/colinmorris/.local/lib/python3.5/site-packages/gensim/matutils.py:737: FutureWarning: Conversion of the second argument of issubdtype from `int` to `np.signedinteger` is deprecated. In future, it will be treated as `np.int64 == np.dtype(int).type`.\n",
      "  if np.issubdtype(vec.dtype, np.int):\n"
     ]
    },
    {
     "data": {
      "text/plain": [
       "[('Pollyanna (1960)', 0.7923725843429565),\n",
       " ('Gigi (1958)', 0.7843174934387207),\n",
       " ('Seven Brides for Seven Brothers (1954)', 0.7775176167488098),\n",
       " ('Little Women (1933)', 0.765568196773529),\n",
       " ('Funny Girl (1968)', 0.7556552886962891),\n",
       " ('Harvey Girls, The (1946)', 0.7473137974739075),\n",
       " ('Oklahoma! (1955)', 0.746092677116394),\n",
       " ('My Fair Lady (1964)', 0.7429697513580322),\n",
       " ('Little Princess, The (1939)', 0.7375482320785522),\n",
       " (\"Singin' in the Rain (1952)\", 0.7283079028129578)]"
      ]
     },
     "execution_count": 14,
     "metadata": {},
     "output_type": "execute_result"
    }
   ],
   "source": [
    "kv.most_similar(k('Meet Me in St. Louis'))"
   ]
  },
  {
   "cell_type": "markdown",
   "metadata": {},
   "source": [
    "# Semantic vector math\n",
    "\n",
    "The [`most_similar`](https://radimrehurek.com/gensim/models/keyedvectors.html#gensim.models.keyedvectors.WordEmbeddingsKeyedVectors.most_similar) method optionally takes a second argument, `negative`. If we call `kv.most_similar(a, b)`, then instead of finding the vector closest to `a`, it will find the closest vector to `a - b`.\n",
    "\n",
    "Why would you want to do that? It turns out that doing addition and subtraction of embedding vectors often gives surprisingly meaningful results. For example, how would you fill in the following equation?\n",
    "\n",
    "    Scream = Psycho + ________\n",
    "\n",
    "*Scream* and *Psycho* are similar in that they're violent, scary movies somewhere on the border between Horror and Thriller. The biggest difference is that *Scream* has elements of comedy. So I'd say *Scream* is what you'd get if you combined *Psycho* with a comedy.\n",
    "\n",
    "But we can actually ask Gensim to fill in the blank for us via vector math (after some rearranging):\n",
    "\n",
    "    ________ = Scream - Psycho"
   ]
  },
  {
   "cell_type": "code",
   "execution_count": 15,
   "metadata": {},
   "outputs": [
    {
     "name": "stderr",
     "output_type": "stream",
     "text": [
      "/home/colinmorris/.local/lib/python3.5/site-packages/gensim/matutils.py:737: FutureWarning: Conversion of the second argument of issubdtype from `int` to `np.signedinteger` is deprecated. In future, it will be treated as `np.int64 == np.dtype(int).type`.\n",
      "  if np.issubdtype(vec.dtype, np.int):\n"
     ]
    },
    {
     "data": {
      "text/plain": [
       "[(\"Can't Hardly Wait (1998)\", 0.6875821948051453),\n",
       " ('Varsity Blues (1999)', 0.643612265586853),\n",
       " ('Toy Soldiers (1991)', 0.6359611749649048),\n",
       " ('Cruel Intentions (1999)', 0.5939096212387085),\n",
       " ('Summer School (1987)', 0.5853281021118164),\n",
       " ('10 Things I Hate About You (1999)', 0.5755065679550171),\n",
       " ('Road Trip (2000)', 0.5676481127738953),\n",
       " ('Bring It On (2000)', 0.5587225556373596),\n",
       " ('EuroTrip (2004)', 0.556922197341919),\n",
       " ('Faculty, The (1998)', 0.5412049293518066)]"
      ]
     },
     "execution_count": 15,
     "metadata": {},
     "output_type": "execute_result"
    }
   ],
   "source": [
    "kv.most_similar(\n",
    "    positive = [k('Scream')],\n",
    "    negative = ['Psycho (1960)']\n",
    ")"
   ]
  },
  {
   "cell_type": "markdown",
   "metadata": {},
   "source": [
    "#### DB: I'm concerned we're starting to rely on a good deal of cinema knowledge here.\n",
    "\n",
    "If you are familiar with these movies, you'll see that the missing ingredient that takes us from *Psycho* to *Scream* is comedy (and also late-90's-teen-movie-ness).\n",
    "\n",
    "*Brave* and *Cars 2* are Pixar movies released within a year of one another. The most obvious difference between them is that their content is more stereotypically appealing to girls and boys, respectively. What do we get by subtracting *Brave*'s vector from *Cars 2*'s vector?"
   ]
  },
  {
   "cell_type": "code",
   "execution_count": 16,
   "metadata": {},
   "outputs": [
    {
     "name": "stderr",
     "output_type": "stream",
     "text": [
      "/home/colinmorris/.local/lib/python3.5/site-packages/gensim/matutils.py:737: FutureWarning: Conversion of the second argument of issubdtype from `int` to `np.signedinteger` is deprecated. In future, it will be treated as `np.int64 == np.dtype(int).type`.\n",
      "  if np.issubdtype(vec.dtype, np.int):\n"
     ]
    },
    {
     "data": {
      "text/plain": [
       "[('Sea of Love (1989)', 0.647750198841095),\n",
       " ('All the Right Moves (1983)', 0.6178675889968872),\n",
       " ('Wall Street (1987)', 0.5668429732322693),\n",
       " ('48 Hrs. (1982)', 0.5596427321434021),\n",
       " ('Gauntlet, The (1977)', 0.5527459383010864),\n",
       " ('10 (1979)', 0.5510733127593994),\n",
       " ('Mad Money (2008)', 0.5362347364425659),\n",
       " ('Endless Love (1981)', 0.5280988216400146),\n",
       " ('Against All Odds (1984)', 0.5252307653427124),\n",
       " (\"White Men Can't Jump (1992)\", 0.5205742120742798)]"
      ]
     },
     "execution_count": 16,
     "metadata": {},
     "output_type": "execute_result"
    }
   ],
   "source": [
    "kv.most_similar(\n",
    "    [k('Cars 2')],\n",
    "    negative = [k('Brave')]\n",
    ")"
   ]
  },
  {
   "cell_type": "markdown",
   "metadata": {},
   "source": [
    "#### DB: As a non-cinephile, I know nothing about most of these. I worry most users will feel left out by commentary about movies they don't recognize.\n",
    "\n",
    "\n",
    "**TODO: Well, this worked a lot better with the model I was originally using at the time I wrote this. These results from the newer model are still mostly 'guy movies', but they're more obscure.**\n",
    "\n",
    "*The macho vector*. The components that might have represented \"kids movie\", \"computer animation\", \"blockbuster\", \"early 2010's\", etc. have basically \"cancelled out\", since these properties were common to both movies. "
   ]
  },
  {
   "cell_type": "markdown",
   "metadata": {},
   "source": [
    "## Analogy solving\n",
    "\n",
    "The SAT test which is used to get into American colleges and universities poses analogy questions like:\n",
    "\n",
    "    shower : deluge :: _____ : stare\n",
    "    \n",
    "(Read \"shower is to deluge as ___ is to stare\")\n",
    "\n",
    "To solve this, we find the relationship between deluge and shower, and apply it to stare. A shower is a milder form of a deluge. What's a milder form of stare? A good answer here would be \"glance\", or \"look\". \n",
    "\n",
    "It's kind of astounding that this works, but people have found that these can often be effectively solved by simple vector math on word embeddings. Can we solve movie analogies with our embeddings? Let's try. What about:\n",
    "\n",
    "    Brave : Cars 2 :: Pocahontas : _____\n",
    "    \n",
    "In terms of vector math, we can frame this as...\n",
    "\n",
    "    Cars 2 = Brave + X\n",
    "    _____  = Pocahontas + X\n",
    "    \n",
    "Rearranging, we get:\n",
    "\n",
    "    ____ = Pocahontas + (Cars 2 - Brave)\n",
    "\n",
    "We can solve this by passing in two movies (*Pocahontas* and *Cars 2*) for the positive argument to `most_similar`, with *Brave* as the negative argument:"
   ]
  },
  {
   "cell_type": "code",
   "execution_count": 18,
   "metadata": {},
   "outputs": [
    {
     "name": "stderr",
     "output_type": "stream",
     "text": [
      "/home/colinmorris/.local/lib/python3.5/site-packages/gensim/matutils.py:737: FutureWarning: Conversion of the second argument of issubdtype from `int` to `np.signedinteger` is deprecated. In future, it will be treated as `np.int64 == np.dtype(int).type`.\n",
      "  if np.issubdtype(vec.dtype, np.int):\n"
     ]
    },
    {
     "data": {
      "text/plain": [
       "[('Aladdin and the King of Thieves (1996)', 0.648187518119812),\n",
       " ('Hunchback of Notre Dame, The (1996)', 0.6423631906509399),\n",
       " ('Chorus Line, A (1985)', 0.6406726837158203),\n",
       " ('Hercules (1997)', 0.6011497974395752),\n",
       " ('Lady in Red, The (1979)', 0.5953354239463806),\n",
       " ('Return of Jafar, The (1994)', 0.5920454859733582),\n",
       " ('All Dogs Go to Heaven 2 (1996)', 0.5916997194290161),\n",
       " ('Anastasia (1997)', 0.581755518913269),\n",
       " ('101 Dalmatians (1996)', 0.5750991702079773),\n",
       " ('Little Mermaid, The (1989)', 0.5689462423324585)]"
      ]
     },
     "execution_count": 18,
     "metadata": {},
     "output_type": "execute_result"
    }
   ],
   "source": [
    "kv.most_similar(\n",
    "    [k('Pocahontas'), k('Cars 2')],\n",
    "    negative = [k('Brave')]\n",
    ")"
   ]
  },
  {
   "cell_type": "markdown",
   "metadata": {},
   "source": [
    "We get a bunch of mid-90s kids' movies like Pocahontas... except that unlike Pocahontas, these have male main characters, and on the whole are probably more popular with boys.\n",
    "\n",
    "#### DB: I again feel we need to show this just once, so we're demonstrating the technique, rather than exploring a space many users may have little interest in.\n",
    "\n",
    "Does this work with a non-animated film?"
   ]
  },
  {
   "cell_type": "code",
   "execution_count": 19,
   "metadata": {},
   "outputs": [
    {
     "name": "stderr",
     "output_type": "stream",
     "text": [
      "/home/colinmorris/.local/lib/python3.5/site-packages/gensim/matutils.py:737: FutureWarning: Conversion of the second argument of issubdtype from `int` to `np.signedinteger` is deprecated. In future, it will be treated as `np.int64 == np.dtype(int).type`.\n",
      "  if np.issubdtype(vec.dtype, np.int):\n"
     ]
    },
    {
     "data": {
      "text/plain": [
       "[('Blue Crush (2002)', 0.7251259088516235),\n",
       " ('Bring It On Again (2004)', 0.695522665977478),\n",
       " ('Fast and the Furious: Tokyo Drift, The (Fast and the Furious 3, The) (2006)',\n",
       "  0.6860014200210571),\n",
       " ('Legally Blonde (2001)', 0.6783874034881592),\n",
       " (\"Charlie's Angels (2000)\", 0.6571942567825317),\n",
       " ('Barbershop 2: Back in Business (2004)', 0.6560758352279663),\n",
       " ('2 Fast 2 Furious (Fast and the Furious 2, The) (2003)', 0.6469695568084717),\n",
       " ('What a Girl Wants (2003)', 0.642094612121582),\n",
       " (\"She's All That (1999)\", 0.6413033604621887),\n",
       " ('Drumline (2002)', 0.6353882551193237)]"
      ]
     },
     "execution_count": 19,
     "metadata": {},
     "output_type": "execute_result"
    }
   ],
   "source": [
    "kv.most_similar(\n",
    "    [k('Bring It On'), k('Cars 2')],\n",
    "    negative = [k('Brave')]\n",
    ")"
   ]
  },
  {
   "cell_type": "markdown",
   "metadata": {},
   "source": [
    "**TODO: This example has also degraded after switching models. Possible that some of these patterns were kind of cherry-picked and aren't super robust. Maybe worth showing at least one example that doesn't work as we might hope, to show that it's not totally magic.**\n",
    "\n",
    "This seems pretty accurate. Like *Bring It On*, these movies are light-hearted, inoffensive comedies aimed at young teens - but not necessarily young teen girls. The contrast is especially obvious when we compare to the most similar movies to *Bring It On* alone:"
   ]
  },
  {
   "cell_type": "code",
   "execution_count": 20,
   "metadata": {},
   "outputs": [
    {
     "name": "stderr",
     "output_type": "stream",
     "text": [
      "/home/colinmorris/.local/lib/python3.5/site-packages/gensim/matutils.py:737: FutureWarning: Conversion of the second argument of issubdtype from `int` to `np.signedinteger` is deprecated. In future, it will be treated as `np.int64 == np.dtype(int).type`.\n",
      "  if np.issubdtype(vec.dtype, np.int):\n"
     ]
    },
    {
     "data": {
      "text/plain": [
       "[('Legally Blonde (2001)', 0.8641946315765381),\n",
       " ('Clueless (1995)', 0.8171336054801941),\n",
       " ('Blue Crush (2002)', 0.8121250867843628),\n",
       " ('Mean Girls (2004)', 0.7572932243347168),\n",
       " (\"Charlie's Angels (2000)\", 0.7506909370422363),\n",
       " ('Never Been Kissed (1999)', 0.7351545095443726),\n",
       " ('10 Things I Hate About You (1999)', 0.713359534740448),\n",
       " (\"She's All That (1999)\", 0.7108302116394043),\n",
       " ('Spice World (1997)', 0.7067806720733643),\n",
       " ('Fast and the Furious: Tokyo Drift, The (Fast and the Furious 3, The) (2006)',\n",
       "  0.6800084114074707)]"
      ]
     },
     "execution_count": 20,
     "metadata": {},
     "output_type": "execute_result"
    }
   ],
   "source": [
    "kv.most_similar(\n",
    "    k('Bring It On'))"
   ]
  },
  {
   "cell_type": "markdown",
   "metadata": {},
   "source": [
    "# Your Turn\n",
    "\n",
    "**TODO: link**"
   ]
  },
  {
   "cell_type": "code",
   "execution_count": 21,
   "metadata": {},
   "outputs": [
    {
     "name": "stderr",
     "output_type": "stream",
     "text": [
      "/home/colinmorris/.local/lib/python3.5/site-packages/gensim/matutils.py:737: FutureWarning: Conversion of the second argument of issubdtype from `int` to `np.signedinteger` is deprecated. In future, it will be treated as `np.int64 == np.dtype(int).type`.\n",
      "  if np.issubdtype(vec.dtype, np.int):\n"
     ]
    },
    {
     "data": {
      "text/plain": [
       "[('Star Wars: Episode II - Attack of the Clones (2002)', 0.9871715903282166),\n",
       " ('Star Wars: Episode III - Revenge of the Sith (2005)', 0.950527548789978),\n",
       " ('Star Wars: The Clone Wars (2008)', 0.8525668382644653),\n",
       " ('Indiana Jones and the Kingdom of the Crystal Skull (2008)',\n",
       "  0.659541130065918),\n",
       " ('Planet of the Apes (2001)', 0.5998356342315674),\n",
       " ('Star Wars: Episode VI - Return of the Jedi (1983)', 0.5917620658874512),\n",
       " ('Star Wars: Episode IV - A New Hope (1977)', 0.5581279397010803),\n",
       " ('X-Men: The Last Stand (2006)', 0.5202416181564331),\n",
       " ('Jurassic Park III (2001)', 0.5184123516082764),\n",
       " ('Daredevil (2003)', 0.5071365833282471)]"
      ]
     },
     "execution_count": 21,
     "metadata": {},
     "output_type": "execute_result"
    }
   ],
   "source": [
    "# scratch space below - please ignore\n",
    "\n",
    "kv.most_similar(k('Star Wars: Episode I - The Phantom Menace'))"
   ]
  },
  {
   "cell_type": "code",
   "execution_count": 22,
   "metadata": {},
   "outputs": [
    {
     "name": "stderr",
     "output_type": "stream",
     "text": [
      "/home/colinmorris/.local/lib/python3.5/site-packages/gensim/matutils.py:737: FutureWarning: Conversion of the second argument of issubdtype from `int` to `np.signedinteger` is deprecated. In future, it will be treated as `np.int64 == np.dtype(int).type`.\n",
      "  if np.issubdtype(vec.dtype, np.int):\n"
     ]
    },
    {
     "data": {
      "text/plain": [
       "[('Harry Potter and the Prisoner of Azkaban (2004)', 0.9893936514854431),\n",
       " ('Harry Potter and the Order of the Phoenix (2007)', 0.9833325743675232),\n",
       " ('Harry Potter and the Chamber of Secrets (2002)', 0.9780935645103455),\n",
       " ('Harry Potter and the Half-Blood Prince (2009)', 0.9761638045310974),\n",
       " (\"Harry Potter and the Sorcerer's Stone (a.k.a. Harry Potter and the Philosopher's Stone) (2001)\",\n",
       "  0.9668656587600708),\n",
       " ('Harry Potter and the Deathly Hallows: Part 2 (2011)', 0.966358482837677),\n",
       " ('Harry Potter and the Deathly Hallows: Part 1 (2010)', 0.950824499130249),\n",
       " ('Chronicles of Narnia: The Lion, the Witch and the Wardrobe, The (2005)',\n",
       "  0.5834417343139648),\n",
       " ('Hunger Games: Catching Fire, The (2013)', 0.5514477491378784),\n",
       " ('Golden Compass, The (2007)', 0.545459508895874)]"
      ]
     },
     "execution_count": 22,
     "metadata": {},
     "output_type": "execute_result"
    }
   ],
   "source": [
    "kv.most_similar(k('Harry Potter and the Goblet of Fire'))"
   ]
  },
  {
   "cell_type": "code",
   "execution_count": 23,
   "metadata": {},
   "outputs": [
    {
     "name": "stderr",
     "output_type": "stream",
     "text": [
      "/home/colinmorris/.local/lib/python3.5/site-packages/gensim/matutils.py:737: FutureWarning: Conversion of the second argument of issubdtype from `int` to `np.signedinteger` is deprecated. In future, it will be treated as `np.int64 == np.dtype(int).type`.\n",
      "  if np.issubdtype(vec.dtype, np.int):\n"
     ]
    },
    {
     "data": {
      "text/plain": [
       "[('Harry Potter and the Prisoner of Azkaban (2004)', 0.9893936514854431),\n",
       " ('Harry Potter and the Order of the Phoenix (2007)', 0.9833325743675232),\n",
       " ('Harry Potter and the Chamber of Secrets (2002)', 0.9780935645103455),\n",
       " ('Harry Potter and the Half-Blood Prince (2009)', 0.9761638045310974),\n",
       " (\"Harry Potter and the Sorcerer's Stone (a.k.a. Harry Potter and the Philosopher's Stone) (2001)\",\n",
       "  0.9668656587600708),\n",
       " ('Harry Potter and the Deathly Hallows: Part 2 (2011)', 0.966358482837677),\n",
       " ('Harry Potter and the Deathly Hallows: Part 1 (2010)', 0.950824499130249),\n",
       " ('Chronicles of Narnia: The Lion, the Witch and the Wardrobe, The (2005)',\n",
       "  0.5834417343139648),\n",
       " ('Hunger Games: Catching Fire, The (2013)', 0.5514477491378784),\n",
       " ('Golden Compass, The (2007)', 0.545459508895874)]"
      ]
     },
     "execution_count": 23,
     "metadata": {},
     "output_type": "execute_result"
    }
   ],
   "source": [
    "kv.most_similar(k('Harry Potter and the Goblet of Fire'))"
   ]
  },
  {
   "cell_type": "code",
   "execution_count": 24,
   "metadata": {},
   "outputs": [
    {
     "name": "stderr",
     "output_type": "stream",
     "text": [
      "/home/colinmorris/.local/lib/python3.5/site-packages/gensim/matutils.py:737: FutureWarning: Conversion of the second argument of issubdtype from `int` to `np.signedinteger` is deprecated. In future, it will be treated as `np.int64 == np.dtype(int).type`.\n",
      "  if np.issubdtype(vec.dtype, np.int):\n"
     ]
    },
    {
     "data": {
      "text/plain": [
       "[('Harry Potter and the Deathly Hallows: Part 1 (2010)', 0.9812530279159546),\n",
       " ('Harry Potter and the Half-Blood Prince (2009)', 0.9710525274276733),\n",
       " ('Harry Potter and the Order of the Phoenix (2007)', 0.9680110216140747),\n",
       " ('Harry Potter and the Goblet of Fire (2005)', 0.966358482837677),\n",
       " ('Harry Potter and the Prisoner of Azkaban (2004)', 0.9584927558898926),\n",
       " ('Harry Potter and the Chamber of Secrets (2002)', 0.9265634417533875),\n",
       " (\"Harry Potter and the Sorcerer's Stone (a.k.a. Harry Potter and the Philosopher's Stone) (2001)\",\n",
       "  0.919805645942688),\n",
       " ('Hunger Games: Catching Fire, The (2013)', 0.6579086780548096),\n",
       " ('Chronicles of Narnia: The Lion, the Witch and the Wardrobe, The (2005)',\n",
       "  0.5655975937843323),\n",
       " ('Chronicles of Narnia: Prince Caspian, The (2008)', 0.5583797097206116)]"
      ]
     },
     "execution_count": 24,
     "metadata": {},
     "output_type": "execute_result"
    }
   ],
   "source": [
    "kv.most_similar(k('Harry Potter and the Deathly Hallows: Part 2'))"
   ]
  },
  {
   "cell_type": "code",
   "execution_count": 25,
   "metadata": {},
   "outputs": [
    {
     "name": "stderr",
     "output_type": "stream",
     "text": [
      "/home/colinmorris/.local/lib/python3.5/site-packages/gensim/matutils.py:737: FutureWarning: Conversion of the second argument of issubdtype from `int` to `np.signedinteger` is deprecated. In future, it will be treated as `np.int64 == np.dtype(int).type`.\n",
      "  if np.issubdtype(vec.dtype, np.int):\n"
     ]
    },
    {
     "data": {
      "text/plain": [
       "0.03364157154521097"
      ]
     },
     "execution_count": 25,
     "metadata": {},
     "output_type": "execute_result"
    }
   ],
   "source": [
    "kv.distance(\n",
    "    k('Harry Potter and the Goblet of Fire'),\n",
    "    k('Harry Potter and the Deathly Hallows: Part 2'),\n",
    ")"
   ]
  },
  {
   "cell_type": "code",
   "execution_count": 26,
   "metadata": {},
   "outputs": [
    {
     "name": "stdout",
     "output_type": "stream",
     "text": [
      "Harry Potter and the Goblet of Fire (2005)\n",
      "Harry Potter and the Deathly Hallows: Part 2 (2011)\n"
     ]
    }
   ],
   "source": [
    "print(\n",
    "    k('Harry Potter and the Goblet of Fire'),\n",
    "    k('Harry Potter and the Deathly Hallows: Part 2'),\n",
    "    sep='\\n',\n",
    ")"
   ]
  },
  {
   "cell_type": "code",
   "execution_count": 27,
   "metadata": {},
   "outputs": [
    {
     "name": "stdout",
     "output_type": "stream",
     "text": [
      "1 8091\n"
     ]
    }
   ],
   "source": [
    "v = kv.vocab['Harry Potter and the Deathly Hallows: Part 2 (2011)']\n",
    "print(v.count, v.index)"
   ]
  },
  {
   "cell_type": "code",
   "execution_count": null,
   "metadata": {},
   "outputs": [],
   "source": []
  },
  {
   "cell_type": "code",
   "execution_count": 28,
   "metadata": {},
   "outputs": [
    {
     "data": {
      "text/plain": [
       "Series([], Name: key, dtype: int64)"
      ]
     },
     "execution_count": 28,
     "metadata": {},
     "output_type": "execute_result"
    }
   ],
   "source": [
    "df = mainstream_movies\n",
    "key_counts = df['key'].value_counts()\n",
    "key_counts[key_counts > 1]"
   ]
  },
  {
   "cell_type": "code",
   "execution_count": 29,
   "metadata": {},
   "outputs": [
    {
     "data": {
      "text/html": [
       "<div>\n",
       "<style scoped>\n",
       "    .dataframe tbody tr th:only-of-type {\n",
       "        vertical-align: middle;\n",
       "    }\n",
       "\n",
       "    .dataframe tbody tr th {\n",
       "        vertical-align: top;\n",
       "    }\n",
       "\n",
       "    .dataframe thead th {\n",
       "        text-align: right;\n",
       "    }\n",
       "</style>\n",
       "<table border=\"1\" class=\"dataframe\">\n",
       "  <thead>\n",
       "    <tr style=\"text-align: right;\">\n",
       "      <th></th>\n",
       "      <th>movieId</th>\n",
       "      <th>title</th>\n",
       "      <th>genres</th>\n",
       "      <th>movieId_orig</th>\n",
       "      <th>key</th>\n",
       "      <th>year</th>\n",
       "      <th>n_ratings</th>\n",
       "      <th>mean_rating</th>\n",
       "    </tr>\n",
       "  </thead>\n",
       "  <tbody>\n",
       "    <tr>\n",
       "      <th>4000</th>\n",
       "      <td>4800</td>\n",
       "      <td>Harry Potter and the Sorcerer's Stone (a.k.a. ...</td>\n",
       "      <td>Adventure|Children|Fantasy</td>\n",
       "      <td>4896</td>\n",
       "      <td>Harry Potter and the Sorcerer's Stone (a.k.a. ...</td>\n",
       "      <td>2001</td>\n",
       "      <td>17239</td>\n",
       "      <td>3.615418</td>\n",
       "    </tr>\n",
       "    <tr>\n",
       "      <th>4574</th>\n",
       "      <td>5717</td>\n",
       "      <td>Harry Potter and the Chamber of Secrets</td>\n",
       "      <td>Adventure|Fantasy</td>\n",
       "      <td>5816</td>\n",
       "      <td>Harry Potter and the Chamber of Secrets (2002)</td>\n",
       "      <td>2002</td>\n",
       "      <td>14469</td>\n",
       "      <td>3.579198</td>\n",
       "    </tr>\n",
       "    <tr>\n",
       "      <th>5742</th>\n",
       "      <td>7769</td>\n",
       "      <td>Harry Potter and the Prisoner of Azkaban</td>\n",
       "      <td>Adventure|Fantasy|IMAX</td>\n",
       "      <td>8368</td>\n",
       "      <td>Harry Potter and the Prisoner of Azkaban (2004)</td>\n",
       "      <td>2004</td>\n",
       "      <td>13157</td>\n",
       "      <td>3.752918</td>\n",
       "    </tr>\n",
       "    <tr>\n",
       "      <th>6595</th>\n",
       "      <td>10591</td>\n",
       "      <td>Harry Potter and the Goblet of Fire</td>\n",
       "      <td>Adventure|Fantasy|Thriller|IMAX</td>\n",
       "      <td>40815</td>\n",
       "      <td>Harry Potter and the Goblet of Fire (2005)</td>\n",
       "      <td>2005</td>\n",
       "      <td>9908</td>\n",
       "      <td>3.723799</td>\n",
       "    </tr>\n",
       "    <tr>\n",
       "      <th>7057</th>\n",
       "      <td>11964</td>\n",
       "      <td>Harry Potter and the Order of the Phoenix</td>\n",
       "      <td>Adventure|Drama|Fantasy|IMAX</td>\n",
       "      <td>54001</td>\n",
       "      <td>Harry Potter and the Order of the Phoenix (2007)</td>\n",
       "      <td>2007</td>\n",
       "      <td>5967</td>\n",
       "      <td>3.749513</td>\n",
       "    </tr>\n",
       "    <tr>\n",
       "      <th>7616</th>\n",
       "      <td>13920</td>\n",
       "      <td>Harry Potter and the Half-Blood Prince</td>\n",
       "      <td>Adventure|Fantasy|Mystery|Romance|IMAX</td>\n",
       "      <td>69844</td>\n",
       "      <td>Harry Potter and the Half-Blood Prince (2009)</td>\n",
       "      <td>2009</td>\n",
       "      <td>4245</td>\n",
       "      <td>3.814833</td>\n",
       "    </tr>\n",
       "    <tr>\n",
       "      <th>7962</th>\n",
       "      <td>16165</td>\n",
       "      <td>Harry Potter and the Deathly Hallows: Part 1</td>\n",
       "      <td>Action|Adventure|Fantasy|IMAX</td>\n",
       "      <td>81834</td>\n",
       "      <td>Harry Potter and the Deathly Hallows: Part 1 (...</td>\n",
       "      <td>2010</td>\n",
       "      <td>3884</td>\n",
       "      <td>3.884176</td>\n",
       "    </tr>\n",
       "    <tr>\n",
       "      <th>8091</th>\n",
       "      <td>17466</td>\n",
       "      <td>Harry Potter and the Deathly Hallows: Part 2</td>\n",
       "      <td>Action|Adventure|Drama|Fantasy|Mystery|IMAX</td>\n",
       "      <td>88125</td>\n",
       "      <td>Harry Potter and the Deathly Hallows: Part 2 (...</td>\n",
       "      <td>2011</td>\n",
       "      <td>3983</td>\n",
       "      <td>3.953822</td>\n",
       "    </tr>\n",
       "  </tbody>\n",
       "</table>\n",
       "</div>"
      ],
      "text/plain": [
       "      movieId                                              title  \\\n",
       "4000     4800  Harry Potter and the Sorcerer's Stone (a.k.a. ...   \n",
       "4574     5717            Harry Potter and the Chamber of Secrets   \n",
       "5742     7769           Harry Potter and the Prisoner of Azkaban   \n",
       "6595    10591                Harry Potter and the Goblet of Fire   \n",
       "7057    11964          Harry Potter and the Order of the Phoenix   \n",
       "7616    13920             Harry Potter and the Half-Blood Prince   \n",
       "7962    16165       Harry Potter and the Deathly Hallows: Part 1   \n",
       "8091    17466       Harry Potter and the Deathly Hallows: Part 2   \n",
       "\n",
       "                                           genres  movieId_orig  \\\n",
       "4000                   Adventure|Children|Fantasy          4896   \n",
       "4574                            Adventure|Fantasy          5816   \n",
       "5742                       Adventure|Fantasy|IMAX          8368   \n",
       "6595              Adventure|Fantasy|Thriller|IMAX         40815   \n",
       "7057                 Adventure|Drama|Fantasy|IMAX         54001   \n",
       "7616       Adventure|Fantasy|Mystery|Romance|IMAX         69844   \n",
       "7962                Action|Adventure|Fantasy|IMAX         81834   \n",
       "8091  Action|Adventure|Drama|Fantasy|Mystery|IMAX         88125   \n",
       "\n",
       "                                                    key  year  n_ratings  \\\n",
       "4000  Harry Potter and the Sorcerer's Stone (a.k.a. ...  2001      17239   \n",
       "4574     Harry Potter and the Chamber of Secrets (2002)  2002      14469   \n",
       "5742    Harry Potter and the Prisoner of Azkaban (2004)  2004      13157   \n",
       "6595         Harry Potter and the Goblet of Fire (2005)  2005       9908   \n",
       "7057   Harry Potter and the Order of the Phoenix (2007)  2007       5967   \n",
       "7616      Harry Potter and the Half-Blood Prince (2009)  2009       4245   \n",
       "7962  Harry Potter and the Deathly Hallows: Part 1 (...  2010       3884   \n",
       "8091  Harry Potter and the Deathly Hallows: Part 2 (...  2011       3983   \n",
       "\n",
       "      mean_rating  \n",
       "4000     3.615418  \n",
       "4574     3.579198  \n",
       "5742     3.752918  \n",
       "6595     3.723799  \n",
       "7057     3.749513  \n",
       "7616     3.814833  \n",
       "7962     3.884176  \n",
       "8091     3.953822  "
      ]
     },
     "execution_count": 29,
     "metadata": {},
     "output_type": "execute_result"
    }
   ],
   "source": [
    "\n",
    "df[df.title.str.contains('Harry Potter')]"
   ]
  }
 ],
 "metadata": {
  "kernelspec": {
   "display_name": "Python 3",
   "language": "python",
   "name": "python3"
  },
  "language_info": {
   "codemirror_mode": {
    "name": "ipython",
    "version": 3
   },
   "file_extension": ".py",
   "mimetype": "text/x-python",
   "name": "python",
   "nbconvert_exporter": "python",
   "pygments_lexer": "ipython3",
   "version": "3.6.5"
  },
  "learntools_metadata": {
   "lesson_index": 2,
   "type": "tutorial"
  }
 },
 "nbformat": 4,
 "nbformat_minor": 2
}
