{
 "cells": [
  {
   "cell_type": "markdown",
   "metadata": {},
   "source": [
    "The model trained in this notebook is used in exercise 2 of the embeddings course (matrix factorization). It's identical to the matrix factorization model we train in tutorial 2, except that it adds some L2 regularization to our movie and user embeddings."
   ]
  },
  {
   "cell_type": "code",
   "execution_count": null,
   "metadata": {},
   "outputs": [],
   "source": [
    "import numpy as np\n",
    "import pandas as pd\n",
    "from matplotlib import pyplot as plt\n",
    "import tensorflow as tf\n",
    "from tensorflow import keras\n",
    "import os\n",
    "import random\n",
    "\n",
    "RUNNING_ON_KERNELS = 'KAGGLE_WORKING_DIR' in os.environ\n",
    "input_dir = '../input' if RUNNING_ON_KERNELS else '../input/movielens_preprocessed'\n",
    "ratings_path = os.path.join(input_dir, 'rating.csv')\n",
    "df = pd.read_csv(ratings_path, usecols=['userId', 'movieId', 'rating', 'y'])\n",
    "\n",
    "tf.set_random_seed(1); np.random.seed(1); random.seed(1)"
   ]
  },
  {
   "cell_type": "code",
   "execution_count": null,
   "metadata": {},
   "outputs": [
    {
     "name": "stdout",
     "output_type": "stream",
     "text": [
      "__________________________________________________________________________________________________\n",
      "Layer (type)                    Output Shape         Param #     Connected to                     \n",
      "==================================================================================================\n",
      "user_id (InputLayer)            (None, 1)            0                                            \n",
      "__________________________________________________________________________________________________\n",
      "movie_id (InputLayer)           (None, 1)            0                                            \n",
      "__________________________________________________________________________________________________\n",
      "user_embedding (Embedding)      (None, 1, 8)         1107952     user_id[0][0]                    \n",
      "__________________________________________________________________________________________________\n",
      "movie_embedding (Embedding)     (None, 1, 8)         213952      movie_id[0][0]                   \n",
      "__________________________________________________________________________________________________\n",
      "dot (Dot)                       (None, 1, 1)         0           user_embedding[0][0]             \n",
      "                                                                 movie_embedding[0][0]            \n",
      "__________________________________________________________________________________________________\n",
      "flatten (Flatten)               (None, 1)            0           dot[0][0]                        \n",
      "==================================================================================================\n",
      "Total params: 1,321,904\n",
      "Trainable params: 1,321,904\n",
      "Non-trainable params: 0\n",
      "__________________________________________________________________________________________________\n"
     ]
    }
   ],
   "source": [
    "movie_embedding_size = user_embedding_size = 8\n",
    "user_id_input = keras.Input(shape=(1,), name='user_id')\n",
    "movie_id_input = keras.Input(shape=(1,), name='movie_id')\n",
    "\n",
    "movie_r12n = keras.regularizers.l1_l2(l1=0, l2=1e-6)\n",
    "user_r12n = keras.regularizers.l1_l2(l1=0, l2=1e-7)\n",
    "user_embedded = keras.layers.Embedding(df.userId.max()+1, user_embedding_size,\n",
    "                                       embeddings_initializer='glorot_uniform',\n",
    "                                       embeddings_regularizer=user_r12n,\n",
    "                                       input_length=1, name='user_embedding')(user_id_input)\n",
    "movie_embedded = keras.layers.Embedding(df.movieId.max()+1, movie_embedding_size, \n",
    "                                        embeddings_initializer='glorot_uniform',\n",
    "                                        embeddings_regularizer=movie_r12n,\n",
    "                                        input_length=1, name='movie_embedding')(movie_id_input)\n",
    "\n",
    "dotted = keras.layers.Dot(2)([user_embedded, movie_embedded])\n",
    "out = keras.layers.Flatten()(dotted)\n",
    "\n",
    "l2_model = keras.Model(\n",
    "    inputs = [user_id_input, movie_id_input],\n",
    "    outputs = out,\n",
    ")\n",
    "l2_model.compile(\n",
    "    tf.train.AdamOptimizer(0.005),\n",
    "    loss='MSE',\n",
    "    metrics=['MAE', 'MSE'],\n",
    ")\n",
    "l2_model.summary(line_length=88)"
   ]
  },
  {
   "cell_type": "code",
   "execution_count": null,
   "metadata": {},
   "outputs": [
    {
     "name": "stdout",
     "output_type": "stream",
     "text": [
      "Train on 19000249 samples, validate on 1000014 samples\n",
      "Epoch 1/10\n",
      " - 94s - loss: 0.7794 - mean_absolute_error: 0.6712 - val_loss: 0.6997 - val_mean_absolute_error: 0.6289\n",
      "Epoch 2/10\n",
      " - 88s - loss: 0.6695 - mean_absolute_error: 0.6132 - val_loss: 0.6722 - val_mean_absolute_error: 0.6129\n",
      "Epoch 3/10\n",
      " - 93s - loss: 0.6428 - mean_absolute_error: 0.5984 - val_loss: 0.6655 - val_mean_absolute_error: 0.6081\n",
      "Epoch 4/10\n",
      " - 87s - loss: 0.6336 - mean_absolute_error: 0.5928 - val_loss: 0.6644 - val_mean_absolute_error: 0.6064\n",
      "Epoch 5/10\n",
      " - 82s - loss: 0.6302 - mean_absolute_error: 0.5904 - val_loss: 0.6644 - val_mean_absolute_error: 0.6055\n",
      "Epoch 6/10\n",
      " - 89s - loss: 0.6287 - mean_absolute_error: 0.5892 - val_loss: 0.6649 - val_mean_absolute_error: 0.6053\n",
      "Epoch 7/10\n",
      " - 91s - loss: 0.6280 - mean_absolute_error: 0.5884 - val_loss: 0.6651 - val_mean_absolute_error: 0.6048\n",
      "Epoch 8/10\n",
      " - 87s - loss: 0.6276 - mean_absolute_error: 0.5879 - val_loss: 0.6655 - val_mean_absolute_error: 0.6049\n",
      "Epoch 9/10\n",
      " - 84s - loss: 0.6274 - mean_absolute_error: 0.5876 - val_loss: 0.6658 - val_mean_absolute_error: 0.6048\n",
      "Epoch 10/10\n",
      " - 92s - loss: 0.6272 - mean_absolute_error: 0.5874 - val_loss: 0.6661 - val_mean_absolute_error: 0.6047\n"
     ]
    }
   ],
   "source": [
    "l2_model.fit(\n",
    "    [df.userId, df.movieId],\n",
    "    df.y,\n",
    "    batch_size=10**4,\n",
    "    epochs=10,\n",
    "    verbose=2,\n",
    "    validation_split=.05,\n",
    ");"
   ]
  },
  {
   "cell_type": "markdown",
   "metadata": {},
   "source": [
    "Wow, this is impressively better than the same model without r12n. Well, actually, the final errors are pretty close (.6050 vs. .6047) but the r12n model at least converges a lot faster? Thoooough, maybe the emb init thing is a confound? \n",
    "... Yup, huge confound. glorot_uniform greatly improves convergence rate of unregularized tut-2 model, putting it on par with this model. Oh well.\n",
    "\n",
    "Should experiment with l2 strength. I think the values here (settled on during some earlier experiment) maybe leaned on the side of going a little overboard, for the sake of more conservative predictions (minimizing how foolish we look, aggressively targetting the obscure movie problem) rather than optimizing for validation loss. \n",
    "\n",
    "Still todo:\n",
    "\n",
    "- Visually compare error over time (load serialized training history from 2-factorization tutorial, or just train a vanilla model here from scratch)"
   ]
  },
  {
   "cell_type": "code",
   "execution_count": null,
   "metadata": {},
   "outputs": [
    {
     "name": "stdout",
     "output_type": "stream",
     "text": [
      "WARNING:tensorflow:TensorFlow optimizers do not make it possible to access optimizer attributes or optimizer state after instantiation. As a result, we cannot save the optimizer as part of the model save file.You will have to compile your model again after loading it. Prefer using a Keras optimizer instead (see keras.io/optimizers).\n"
     ]
    }
   ],
   "source": [
    "l2_model.save('movie_svd_model_8_r12n.h5')"
   ]
  }
 ],
 "metadata": {
  "kernelspec": {
   "display_name": "Python 3",
   "language": "python",
   "name": "python3"
  },
  "language_info": {
   "codemirror_mode": {
    "name": "ipython",
    "version": 3
   },
   "file_extension": ".py",
   "mimetype": "text/x-python",
   "name": "python",
   "nbconvert_exporter": "python",
   "pygments_lexer": "ipython3",
   "version": "3.6.5"
  },
  "learntools_metadata": {
   "lesson_index": -2,
   "type": "tutorial"
  }
 },
 "nbformat": 4,
 "nbformat_minor": 2
}
