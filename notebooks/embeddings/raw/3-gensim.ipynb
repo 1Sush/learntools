{
 "cells": [
  {
   "cell_type": "markdown",
   "metadata": {},
   "source": [
    "Earlier we trained a model to predict the ratings users would give to movies using a network with embeddings learned for each movie and user. Embeddings are powerful! But how do they actually work? \n",
    "\n",
    "Previously, I claimed that embeddings capture the 'meaning' of the objects they represent, and discover useful latent structure. Let's put that to the test!\n",
    "\n",
    "# Looking up embeddings\n",
    "\n",
    "Let's load a model we trained earlier so we can investigate the embedding weights that it learned."
   ]
  },
  {
   "cell_type": "code",
   "execution_count": null,
   "metadata": {},
   "outputs": [
    {
     "name": "stdout",
     "output_type": "stream",
     "text": [
      "WARNING:tensorflow:No training configuration found in save file: the model was *not* compiled. Compile it manually.\n"
     ]
    }
   ],
   "source": [
    "import os\n",
    "\n",
    "import numpy as np\n",
    "import pandas as pd\n",
    "from matplotlib import pyplot as plt\n",
    "import tensorflow as tf\n",
    "from tensorflow import keras\n",
    "\n",
    "RUNNING_ON_KERNELS = 'KAGGLE_WORKING_DIR' in os.environ\n",
    "input_dir = '../input/0-movielens-preprocessing' if RUNNING_ON_KERNELS else '../input/movielens_preprocessed'\n",
    "model_dir = '../input/x3-movielens-spiffy-model' if RUNNING_ON_KERNELS else '.'\n",
    "model_path = os.path.join(model_dir, 'movie_svd_model_32.h5')\n",
    "model = keras.models.load_model(model_path)"
   ]
  },
  {
   "cell_type": "markdown",
   "metadata": {},
   "source": [
    "The embedding weights are part of the model's internals, so we'll have to do a bit of digging around to access them. We'll grab the layer responsible for embedding movies, and use the `get_weights()` method to get its learned weights."
   ]
  },
  {
   "cell_type": "code",
   "execution_count": null,
   "metadata": {},
   "outputs": [
    {
     "data": {
      "text/plain": [
       "(26744, 32)"
      ]
     },
     "execution_count": 2,
     "metadata": {},
     "output_type": "execute_result"
    }
   ],
   "source": [
    "emb_layer = model.get_layer('movie_embedding')\n",
    "(w,) = emb_layer.get_weights()\n",
    "w.shape"
   ]
  },
  {
   "cell_type": "markdown",
   "metadata": {},
   "source": [
    "Our weight matrix has 26,744 rows for that many movies. Each row is 32 numbers - the size of our movie embeddings.\n",
    "\n",
    "Let's look at an example movie vector:"
   ]
  },
  {
   "cell_type": "code",
   "execution_count": null,
   "metadata": {},
   "outputs": [
    {
     "data": {
      "text/plain": [
       "array([ 0.03214299, -0.51466346,  0.14373656, -0.78201973, -0.15541445,\n",
       "        0.19800289, -0.22023553,  0.21002012, -0.18109643, -0.08783172,\n",
       "        0.18439223, -0.19462438,  0.2783426 , -0.182823  ,  0.20774055,\n",
       "       -0.37342644, -0.05344471,  0.26587248, -0.48433244,  0.33215156,\n",
       "        0.5064703 , -0.3730033 ,  0.18736823,  0.52273846,  0.30229852,\n",
       "        0.23918429,  0.68839175, -0.2944538 ,  0.26372355, -0.48045683,\n",
       "       -0.45581093, -0.53315413], dtype=float32)"
      ]
     },
     "execution_count": 3,
     "metadata": {},
     "output_type": "execute_result"
    }
   ],
   "source": [
    "w[0]"
   ]
  },
  {
   "cell_type": "markdown",
   "metadata": {},
   "source": [
    "What movie is this the embedding of? Let's load up our dataframe of movie metadata."
   ]
  },
  {
   "cell_type": "code",
   "execution_count": null,
   "metadata": {},
   "outputs": [
    {
     "data": {
      "text/html": [
       "<div>\n",
       "<style scoped>\n",
       "    .dataframe tbody tr th:only-of-type {\n",
       "        vertical-align: middle;\n",
       "    }\n",
       "\n",
       "    .dataframe tbody tr th {\n",
       "        vertical-align: top;\n",
       "    }\n",
       "\n",
       "    .dataframe thead th {\n",
       "        text-align: right;\n",
       "    }\n",
       "</style>\n",
       "<table border=\"1\" class=\"dataframe\">\n",
       "  <thead>\n",
       "    <tr style=\"text-align: right;\">\n",
       "      <th></th>\n",
       "      <th>movieId</th>\n",
       "      <th>title</th>\n",
       "      <th>genres</th>\n",
       "      <th>key</th>\n",
       "      <th>year</th>\n",
       "      <th>n_ratings</th>\n",
       "      <th>mean_rating</th>\n",
       "    </tr>\n",
       "  </thead>\n",
       "  <tbody>\n",
       "    <tr>\n",
       "      <th>0</th>\n",
       "      <td>0</td>\n",
       "      <td>Toy Story</td>\n",
       "      <td>Adventure|Animation|Children|Comedy|Fantasy</td>\n",
       "      <td>Toy Story (1995)</td>\n",
       "      <td>1995</td>\n",
       "      <td>49695</td>\n",
       "      <td>3.920005</td>\n",
       "    </tr>\n",
       "    <tr>\n",
       "      <th>1</th>\n",
       "      <td>1</td>\n",
       "      <td>Jumanji</td>\n",
       "      <td>Adventure|Children|Fantasy</td>\n",
       "      <td>Jumanji (1995)</td>\n",
       "      <td>1995</td>\n",
       "      <td>22243</td>\n",
       "      <td>3.211978</td>\n",
       "    </tr>\n",
       "    <tr>\n",
       "      <th>2</th>\n",
       "      <td>2</td>\n",
       "      <td>Grumpier Old Men</td>\n",
       "      <td>Comedy|Romance</td>\n",
       "      <td>Grumpier Old Men (1995)</td>\n",
       "      <td>1995</td>\n",
       "      <td>12735</td>\n",
       "      <td>3.151871</td>\n",
       "    </tr>\n",
       "    <tr>\n",
       "      <th>3</th>\n",
       "      <td>3</td>\n",
       "      <td>Waiting to Exhale</td>\n",
       "      <td>Comedy|Drama|Romance</td>\n",
       "      <td>Waiting to Exhale (1995)</td>\n",
       "      <td>1995</td>\n",
       "      <td>2756</td>\n",
       "      <td>2.858260</td>\n",
       "    </tr>\n",
       "    <tr>\n",
       "      <th>4</th>\n",
       "      <td>4</td>\n",
       "      <td>Father of the Bride Part II</td>\n",
       "      <td>Comedy</td>\n",
       "      <td>Father of the Bride Part II (1995)</td>\n",
       "      <td>1995</td>\n",
       "      <td>12161</td>\n",
       "      <td>3.065079</td>\n",
       "    </tr>\n",
       "  </tbody>\n",
       "</table>\n",
       "</div>"
      ],
      "text/plain": [
       "   movieId                        title  \\\n",
       "0        0                    Toy Story   \n",
       "1        1                      Jumanji   \n",
       "2        2             Grumpier Old Men   \n",
       "3        3            Waiting to Exhale   \n",
       "4        4  Father of the Bride Part II   \n",
       "\n",
       "                                        genres  \\\n",
       "0  Adventure|Animation|Children|Comedy|Fantasy   \n",
       "1                   Adventure|Children|Fantasy   \n",
       "2                               Comedy|Romance   \n",
       "3                         Comedy|Drama|Romance   \n",
       "4                                       Comedy   \n",
       "\n",
       "                                  key  year  n_ratings  mean_rating  \n",
       "0                    Toy Story (1995)  1995      49695     3.920005  \n",
       "1                      Jumanji (1995)  1995      22243     3.211978  \n",
       "2             Grumpier Old Men (1995)  1995      12735     3.151871  \n",
       "3            Waiting to Exhale (1995)  1995       2756     2.858260  \n",
       "4  Father of the Bride Part II (1995)  1995      12161     3.065079  "
      ]
     },
     "execution_count": 4,
     "metadata": {},
     "output_type": "execute_result"
    }
   ],
   "source": [
    "movies_path = os.path.join(input_dir, 'movie.csv')\n",
    "movies_df = pd.read_csv(movies_path, index_col=0)\n",
    "movies_df.head()"
   ]
  },
  {
   "cell_type": "code",
   "execution_count": null,
   "metadata": {},
   "outputs": [
    {
     "data": {
      "text/html": [
       "<div>\n",
       "<style scoped>\n",
       "    .dataframe tbody tr th:only-of-type {\n",
       "        vertical-align: middle;\n",
       "    }\n",
       "\n",
       "    .dataframe tbody tr th {\n",
       "        vertical-align: top;\n",
       "    }\n",
       "\n",
       "    .dataframe thead th {\n",
       "        text-align: right;\n",
       "    }\n",
       "</style>\n",
       "<table border=\"1\" class=\"dataframe\">\n",
       "  <thead>\n",
       "    <tr style=\"text-align: right;\">\n",
       "      <th></th>\n",
       "      <th>movieId</th>\n",
       "      <th>title</th>\n",
       "      <th>genres</th>\n",
       "      <th>key</th>\n",
       "      <th>year</th>\n",
       "      <th>n_ratings</th>\n",
       "      <th>mean_rating</th>\n",
       "    </tr>\n",
       "  </thead>\n",
       "  <tbody>\n",
       "    <tr>\n",
       "      <th>0</th>\n",
       "      <td>0</td>\n",
       "      <td>Toy Story</td>\n",
       "      <td>Adventure|Animation|Children|Comedy|Fantasy</td>\n",
       "      <td>Toy Story</td>\n",
       "      <td>1995</td>\n",
       "      <td>49695</td>\n",
       "      <td>3.920005</td>\n",
       "    </tr>\n",
       "    <tr>\n",
       "      <th>1</th>\n",
       "      <td>1</td>\n",
       "      <td>Jumanji</td>\n",
       "      <td>Adventure|Children|Fantasy</td>\n",
       "      <td>Jumanji</td>\n",
       "      <td>1995</td>\n",
       "      <td>22243</td>\n",
       "      <td>3.211978</td>\n",
       "    </tr>\n",
       "    <tr>\n",
       "      <th>2</th>\n",
       "      <td>2</td>\n",
       "      <td>Grumpier Old Men</td>\n",
       "      <td>Comedy|Romance</td>\n",
       "      <td>Grumpier Old Men</td>\n",
       "      <td>1995</td>\n",
       "      <td>12735</td>\n",
       "      <td>3.151871</td>\n",
       "    </tr>\n",
       "    <tr>\n",
       "      <th>3</th>\n",
       "      <td>3</td>\n",
       "      <td>Waiting to Exhale</td>\n",
       "      <td>Comedy|Drama|Romance</td>\n",
       "      <td>Waiting to Exhale</td>\n",
       "      <td>1995</td>\n",
       "      <td>2756</td>\n",
       "      <td>2.858260</td>\n",
       "    </tr>\n",
       "    <tr>\n",
       "      <th>4</th>\n",
       "      <td>4</td>\n",
       "      <td>Father of the Bride Part II</td>\n",
       "      <td>Comedy</td>\n",
       "      <td>Father of the Bride Part II</td>\n",
       "      <td>1995</td>\n",
       "      <td>12161</td>\n",
       "      <td>3.065079</td>\n",
       "    </tr>\n",
       "  </tbody>\n",
       "</table>\n",
       "</div>"
      ],
      "text/plain": [
       "   movieId                        title  \\\n",
       "0        0                    Toy Story   \n",
       "1        1                      Jumanji   \n",
       "2        2             Grumpier Old Men   \n",
       "3        3            Waiting to Exhale   \n",
       "4        4  Father of the Bride Part II   \n",
       "\n",
       "                                        genres                          key  \\\n",
       "0  Adventure|Animation|Children|Comedy|Fantasy                    Toy Story   \n",
       "1                   Adventure|Children|Fantasy                      Jumanji   \n",
       "2                               Comedy|Romance             Grumpier Old Men   \n",
       "3                         Comedy|Drama|Romance            Waiting to Exhale   \n",
       "4                                       Comedy  Father of the Bride Part II   \n",
       "\n",
       "   year  n_ratings  mean_rating  \n",
       "0  1995      49695     3.920005  \n",
       "1  1995      22243     3.211978  \n",
       "2  1995      12735     3.151871  \n",
       "3  1995       2756     2.858260  \n",
       "4  1995      12161     3.065079  "
      ]
     },
     "execution_count": 5,
     "metadata": {},
     "output_type": "execute_result"
    }
   ],
   "source": [
    "# XXX. temp hack. Remove once 0-preproc is rerun.\n",
    "# (Though I guess we could get even better coverage if we do this after thresholding)\n",
    "title_counts = movies_df.groupby('title').size()\n",
    "unique_titles = title_counts.index[title_counts == 1]\n",
    "unique_ids = movies_df.index[movies_df.title.isin(unique_titles)]\n",
    "movies_df.loc[unique_ids, 'key'] = movies_df.loc[unique_ids, 'title']"
   ]
  },
  {
   "cell_type": "markdown",
   "metadata": {},
   "source": [
    "Of course, it's *Toy Story*! I should have recognized that vector anywhere.\n",
    "\n",
    "Okay, I'm being facetious. It's hard to make anything of these vectors at this point. We never directed the model about how to use any particular embedding dimension. We left it alone to learn whatever representation it found useful.\n",
    "\n",
    "So how do we check whether these representations are sane and coherent?\n",
    "\n",
    "## Vector similarity\n",
    "\n",
    "A simple way to test this is to look at how close or distant pairs of movies are in the embedding space. Embeddings can be thought of as a smart distance metric. If our embedding matrix is any good, it should map similar movies (like *Toy Story* and *Shrek*) to similar vectors."
   ]
  },
  {
   "cell_type": "code",
   "execution_count": null,
   "metadata": {},
   "outputs": [
    {
     "name": "stdout",
     "output_type": "stream",
     "text": [
      "[ 0.03214299 -0.51466346  0.14373656 -0.78201973 -0.15541445  0.19800289\n",
      " -0.22023553  0.21002012 -0.18109643 -0.08783172  0.18439223 -0.19462438\n",
      "  0.2783426  -0.182823    0.20774055 -0.37342644 -0.05344471  0.26587248\n",
      " -0.48433244  0.33215156  0.5064703  -0.3730033   0.18736823  0.52273846\n",
      "  0.30229852  0.23918429  0.68839175 -0.2944538   0.26372355 -0.48045683\n",
      " -0.45581093 -0.53315413]\n",
      "[ 0.24884267 -0.10877128  0.4979182  -0.40317085 -0.01443     0.3373427\n",
      " -0.17727126  0.10250575 -0.29942977 -0.08850005 -0.13479224  0.0331896\n",
      " -0.06248054 -0.61401534  0.30026016 -0.36173767 -0.24458268 -0.17331414\n",
      " -0.13712853 -0.41209406  0.42591172 -0.2630077  -0.00733991 -0.08791989\n",
      "  0.6295243   0.2754475   0.2452943  -0.19176053  0.06717415 -0.26132086\n",
      " -0.49745026 -0.5409988 ]\n"
     ]
    }
   ],
   "source": [
    "i_toy_story = 0\n",
    "i_shrek = movies_df.loc[\n",
    "    movies_df.title == 'Shrek',\n",
    "    'movieId'\n",
    "].iloc[0]\n",
    "\n",
    "toy_story_vec = w[i_toy_story]\n",
    "shrek_vec = w[i_shrek]\n",
    "\n",
    "print(\n",
    "    toy_story_vec,\n",
    "    shrek_vec,\n",
    "    sep='\\n',\n",
    ")"
   ]
  },
  {
   "cell_type": "markdown",
   "metadata": {},
   "source": [
    "These look generally similar! If we wanted to assign a single number to their similarity, we could calculate the euclidean distance between these two vectors. (This is our conventional 'as the crow flies' notion of distance between two points. Easy to grok in 1, 2, or 3 dimensions. Mathematically, we can also extend it to 32 dimensions, though good luck visualizing it.)"
   ]
  },
  {
   "cell_type": "code",
   "execution_count": null,
   "metadata": {},
   "outputs": [
    {
     "data": {
      "text/plain": [
       "1.6579914093017578"
      ]
     },
     "execution_count": 7,
     "metadata": {},
     "output_type": "execute_result"
    }
   ],
   "source": [
    "from scipy.spatial import distance\n",
    "\n",
    "distance.euclidean(toy_story_vec, shrek_vec)"
   ]
  },
  {
   "cell_type": "markdown",
   "metadata": {},
   "source": [
    "How does this compare to a pair of movies that we would think of as very different?"
   ]
  },
  {
   "cell_type": "code",
   "execution_count": null,
   "metadata": {},
   "outputs": [
    {
     "data": {
      "text/plain": [
       "2.629655122756958"
      ]
     },
     "execution_count": 8,
     "metadata": {},
     "output_type": "execute_result"
    }
   ],
   "source": [
    "i_exorcist = movies_df.loc[\n",
    "    movies_df.title == 'The Exorcist',\n",
    "    'movieId'\n",
    "].iloc[0]\n",
    "\n",
    "exorcist_vec = w[i_exorcist]\n",
    "\n",
    "distance.euclidean(toy_story_vec, exorcist_vec)"
   ]
  },
  {
   "cell_type": "markdown",
   "metadata": {},
   "source": [
    "As expected, much further apart.\n",
    "\n",
    "## Cosine Distance\n",
    "\n",
    "If you check out [the docs for the `scipy.spatial` module](https://docs.scipy.org/doc/scipy-0.14.0/reference/spatial.distance.html), you'll see there are actually a *lot* of different measures of distance that people use for different tasks.\n",
    "\n",
    "When judging the similarity of embeddings, it's more common to use [cosine similarity](https://en.wikipedia.org/wiki/Cosine_similarity).\n",
    "\n",
    "In brief, the cosine similarity of two vectors ranges from -1 to 1, and is a function of the *angle* between the vectors. If two vectors point in the same direction, their cosine similarity is 1. If they point in opposite directions, it's -1. If they're orthogonal (i.e. at right angles), their cosine similarity is 0.\n",
    "\n",
    "Cosine distance is just defined as 1 minus the cosine similarity (and therefore ranges from 0 to 2).\n",
    "\n",
    "Let's calculate a couple cosine distances between movie vectors:"
   ]
  },
  {
   "cell_type": "code",
   "execution_count": null,
   "metadata": {},
   "outputs": [
    {
     "name": "stdout",
     "output_type": "stream",
     "text": [
      "0.3776606321334839\n",
      "0.848502442240715\n"
     ]
    }
   ],
   "source": [
    "print(\n",
    "    distance.cosine(toy_story_vec, shrek_vec),\n",
    "    distance.cosine(toy_story_vec, exorcist_vec),\n",
    "    sep='\\n'\n",
    ")"
   ]
  },
  {
   "cell_type": "markdown",
   "metadata": {},
   "source": [
    "> **Aside:** *Why* is cosine distance commonly used when working with embeddings? The short answer, as with so many deep learning techniques, is \"empirically, it works well\". In the exercise coming up, you'll get to do a little hands-on investigation that digs into this question more deeply.\n",
    "\n",
    "Which movies are most similar to *Toy Story*? Which movies fall right between *Psycho* and *Scream* in the embedding space? We could write a bunch of code to work out questions like this, but it'd be pretty tedious. Fortunately, there's already a library for exactly this sort of work: **Gensim**.\n",
    "\n",
    "# Exploring embeddings with Gensim\n",
    "\n",
    "I'll instantiate an instance of [`WordEmbeddingsKeyedVectors`](https://radimrehurek.com/gensim/models/keyedvectors.html#gensim.models.keyedvectors.WordEmbeddingsKeyedVectors) with our model's movie embeddings and the titles of the corresponding movies.\n",
    "\n",
    "> Aside: You may notice that Gensim's docs and many of its class and method names refer to *word* embeddings. While the library is most frequently used in the text domain, we can use it to explore embeddings of any sort."
   ]
  },
  {
   "cell_type": "code",
   "execution_count": null,
   "metadata": {},
   "outputs": [],
   "source": [
    "from gensim.models.keyedvectors import WordEmbeddingsKeyedVectors\n",
    "\n",
    "# Limit to movies with at least this many ratings in the dataset\n",
    "threshold = 100\n",
    "mainstream_movies = movies_df[movies_df.n_ratings >= threshold].reset_index(drop=True)\n",
    "\n",
    "movie_embedding_size = w.shape[1]\n",
    "kv = WordEmbeddingsKeyedVectors(movie_embedding_size)\n",
    "kv.add(\n",
    "    mainstream_movies['key'].values,\n",
    "    w[mainstream_movies.movieId]\n",
    ")\n",
    "\n",
    "# TODO: could be kind of nice if we could default to using the title \n",
    "# as key when it's unambiguous, and the year-augmented keys when\n",
    "# necessary.\n",
    "def k(title):\n",
    "    \"\"\"Helper to resolve a base movie title to its unique key.\"\"\"\n",
    "    matches = movies_df[movies_df['title']==title]\n",
    "    assert len(matches) == 1, len(matches)\n",
    "    return matches.iloc[0]['key']"
   ]
  },
  {
   "cell_type": "markdown",
   "metadata": {},
   "source": [
    "Okay, so which movies are most similar to *Toy Story*?"
   ]
  },
  {
   "cell_type": "code",
   "execution_count": null,
   "metadata": {},
   "outputs": [
    {
     "name": "stderr",
     "output_type": "stream",
     "text": [
      "/home/colinmorris/.local/lib/python3.5/site-packages/gensim/matutils.py:737: FutureWarning: Conversion of the second argument of issubdtype from `int` to `np.signedinteger` is deprecated. In future, it will be treated as `np.int64 == np.dtype(int).type`.\n",
      "  if np.issubdtype(vec.dtype, np.int):\n"
     ]
    },
    {
     "data": {
      "text/plain": [
       "[('Toy Story 2', 0.9611883163452148),\n",
       " ('Toy Story 3', 0.9078965187072754),\n",
       " ('Finding Nemo', 0.8705847263336182),\n",
       " ('Monsters, Inc.', 0.8633852601051331),\n",
       " ('The Incredibles', 0.8361909985542297),\n",
       " (\"A Bug's Life\", 0.833206057548523),\n",
       " ('Ratatouille', 0.826288640499115),\n",
       " ('Up', 0.792402982711792),\n",
       " ('The Iron Giant', 0.7591872811317444),\n",
       " ('WALL·E', 0.7529118061065674)]"
      ]
     },
     "execution_count": 11,
     "metadata": {},
     "output_type": "execute_result"
    }
   ],
   "source": [
    "# TODO: Maybe write some nice little wrapper around this method that takes care of resolving titles\n",
    "# to keys, and nicely formats the output (maybe as a dataframe? Or even a little horizontal bar chart.)\n",
    "kv.most_similar('Toy Story')"
   ]
  },
  {
   "cell_type": "code",
   "execution_count": null,
   "metadata": {},
   "outputs": [
    {
     "name": "stderr",
     "output_type": "stream",
     "text": [
      "/home/colinmorris/.local/lib/python3.5/site-packages/gensim/matutils.py:737: FutureWarning: Conversion of the second argument of issubdtype from `int` to `np.signedinteger` is deprecated. In future, it will be treated as `np.int64 == np.dtype(int).type`.\n",
      "  if np.issubdtype(vec.dtype, np.int):\n"
     ]
    },
    {
     "data": {
      "image/png": "[encoded data removed]",
      "text/plain": [
       "<Figure size 720x216 with 1 Axes>"
      ]
     },
     "metadata": {},
     "output_type": "display_data"
    }
   ],
   "source": [
    "# XXX\n",
    "def g(sim):\n",
    "    FS = (10, 3)\n",
    "    fig, ax = plt.subplots(figsize=FS)\n",
    "    y = np.arange(len(sim))\n",
    "    w = [t[1] for t in sim]\n",
    "    ax.barh(y, w)\n",
    "    left = min(.6, min(w))\n",
    "    ax.set_xlim(right=1.0, left=left)\n",
    "    labels = [t[0] for t in sim]\n",
    "    plt.yticks(y, labels)\n",
    "    \n",
    "sim = kv.most_similar('Toy Story')\n",
    "g(sim)"
   ]
  },
  {
   "cell_type": "markdown",
   "metadata": {},
   "source": [
    "Wow, these are pretty great! It makes perfect sense that *Toy Story 2* is the most similar movie to *Toy Story*. And most of the rest are animated kids movies with a similar computer-animated style."
   ]
  },
  {
   "cell_type": "markdown",
   "metadata": {},
   "source": [
    "So it's learned something about 3-d animated kids flick, but maybe that was just a fluke. Let's look at the closest neighbours for a few more movies from a variety of genres:"
   ]
  },
  {
   "cell_type": "code",
   "execution_count": null,
   "metadata": {},
   "outputs": [
    {
     "name": "stderr",
     "output_type": "stream",
     "text": [
      "/home/colinmorris/.local/lib/python3.5/site-packages/gensim/matutils.py:737: FutureWarning: Conversion of the second argument of issubdtype from `int` to `np.signedinteger` is deprecated. In future, it will be treated as `np.int64 == np.dtype(int).type`.\n",
      "  if np.issubdtype(vec.dtype, np.int):\n"
     ]
    },
    {
     "data": {
      "image/png": "[encoded data removed]",
      "text/plain": [
       "<Figure size 1080x648 with 6 Axes>"
      ]
     },
     "metadata": {},
     "output_type": "display_data"
    }
   ],
   "source": [
    "#$HIDE_INPUT$\n",
    "movies = ['Eyes Wide Shut', 'American Pie', 'Iron Man 3', 'West Side Story',\n",
    "          'Battleship Potemkin', 'Clueless'\n",
    "]\n",
    "\n",
    "topn = 5\n",
    "def plot_most_similar(movie, ax):\n",
    "    # XXX: Reverse top-to-bottom order\n",
    "    sim = kv.most_similar(movie, topn=topn)\n",
    "    y = np.arange(len(sim))\n",
    "    w = [t[1] for t in sim]\n",
    "    ax.barh(y, w)\n",
    "    left = min(.6, min(w))\n",
    "    ax.set_xlim(right=1.0, left=left)\n",
    "    # TODO: word wrap long titles\n",
    "    labels = [t[0] for t in sim]\n",
    "    ax.set_yticks(y)\n",
    "    ax.set_yticklabels(labels)\n",
    "    ax.set_title(movie)    \n",
    "\n",
    "fig, axes = plt.subplots(3, 2, figsize=(15, 9))\n",
    "\n",
    "for movie, ax in zip(movies, axes.flatten()):\n",
    "    plot_most_similar(movie, ax)\n",
    "    \n",
    "fig.tight_layout()"
   ]
  },
  {
   "cell_type": "markdown",
   "metadata": {},
   "source": [
    "Artsy erotic dramas, raunchy sophomoric comedies, old-school musicals, superhero movies... our embeddings manage to nail a wide variety of cinematic niches!"
   ]
  },
  {
   "cell_type": "markdown",
   "metadata": {},
   "source": [
    "# Semantic vector math\n",
    "\n",
    "The [`most_similar`](https://radimrehurek.com/gensim/models/keyedvectors.html#gensim.models.keyedvectors.WordEmbeddingsKeyedVectors.most_similar) method optionally takes a second argument, `negative`. If we call `kv.most_similar(a, b)`, then instead of finding the vector closest to `a`, it will find the closest vector to `a - b`.\n",
    "\n",
    "Why would you want to do that? It turns out that doing addition and subtraction of embedding vectors often gives surprisingly meaningful results. For example, how would you fill in the following equation?\n",
    "\n",
    "    Scream = Psycho + ________\n",
    "\n",
    "*Scream* and *Psycho* are similar in that they're violent, scary movies somewhere on the border between Horror and Thriller. The biggest difference is that *Scream* has elements of comedy. So I'd say *Scream* is what you'd get if you combined *Psycho* with a comedy.\n",
    "\n",
    "But we can actually ask Gensim to fill in the blank for us via vector math (after some rearranging):\n",
    "\n",
    "    ________ = Scream - Psycho"
   ]
  },
  {
   "cell_type": "code",
   "execution_count": null,
   "metadata": {},
   "outputs": [
    {
     "name": "stderr",
     "output_type": "stream",
     "text": [
      "/home/colinmorris/.local/lib/python3.5/site-packages/gensim/matutils.py:737: FutureWarning: Conversion of the second argument of issubdtype from `int` to `np.signedinteger` is deprecated. In future, it will be treated as `np.int64 == np.dtype(int).type`.\n",
      "  if np.issubdtype(vec.dtype, np.int):\n"
     ]
    },
    {
     "data": {
      "text/plain": [
       "[('Scream 3', 0.706050455570221),\n",
       " ('Not Another Teen Movie', 0.6986004114151001),\n",
       " (\"Charlie's Angels\", 0.6872206330299377),\n",
       " ('Scream 2', 0.6819695830345154),\n",
       " ('Deuce Bigalow: Male Gigolo', 0.6795015335083008),\n",
       " ('I Know What You Did Last Summer', 0.6790268421173096),\n",
       " ('Urban Legend', 0.6780602335929871),\n",
       " ('Final Destination 5', 0.6768518686294556),\n",
       " ('Mortal Kombat', 0.672700047492981),\n",
       " ('Freddy vs. Jason', 0.6654627323150635)]"
      ]
     },
     "execution_count": 15,
     "metadata": {},
     "output_type": "execute_result"
    }
   ],
   "source": [
    "kv.most_similar(\n",
    "    positive = ['Scream'],\n",
    "    negative = ['Psycho (1960)']\n",
    ")"
   ]
  },
  {
   "cell_type": "markdown",
   "metadata": {},
   "source": [
    "If you are familiar with these movies, you'll see that the missing ingredient that takes us from *Psycho* to *Scream* is comedy (and also late-90's-teen-movie-ness)."
   ]
  },
  {
   "cell_type": "markdown",
   "metadata": {},
   "source": [
    "## Analogy solving\n",
    "\n",
    "The SAT test which is used to get into American colleges and universities poses analogy questions like:\n",
    "\n",
    "    shower : deluge :: _____ : stare\n",
    "    \n",
    "(Read \"shower is to deluge as ___ is to stare\")\n",
    "\n",
    "To solve this, we find the relationship between deluge and shower, and apply it to stare. A shower is a milder form of a deluge. What's a milder form of stare? A good answer here would be \"glance\", or \"look\". \n",
    "\n",
    "It's kind of astounding that this works, but people have found that these can often be effectively solved by simple vector math on word embeddings. Can we solve movie analogies with our embeddings? Let's try. What about:\n",
    "\n",
    "    Brave : Cars 2 :: Pocahontas : _____\n",
    "    \n",
    "The answer is not clear. One interpretation would be that *Brave* is like *Cars 2*, except that the latter is aimed primarily at boys, and the former might be more appealing to girls, given its female protagonist. So maybe the answer should be, like *Pocahontas*, a mid-90's conventional animation kids movie, but more of a 'boy movie'. *Hercules*? *The Lion King*? \n",
    "\n",
    "Let's ask our embeddings what they think.\n",
    "\n",
    "In terms of vector math, we can frame this as...\n",
    "\n",
    "    Cars 2 = Brave + X\n",
    "    _____  = Pocahontas + X\n",
    "    \n",
    "Rearranging, we get:\n",
    "\n",
    "    ____ = Pocahontas + (Cars 2 - Brave)\n",
    "\n",
    "We can solve this by passing in two movies (*Pocahontas* and *Cars 2*) for the positive argument to `most_similar`, with *Brave* as the negative argument:"
   ]
  },
  {
   "cell_type": "code",
   "execution_count": null,
   "metadata": {},
   "outputs": [
    {
     "name": "stderr",
     "output_type": "stream",
     "text": [
      "/home/colinmorris/.local/lib/python3.5/site-packages/gensim/matutils.py:737: FutureWarning: Conversion of the second argument of issubdtype from `int` to `np.signedinteger` is deprecated. In future, it will be treated as `np.int64 == np.dtype(int).type`.\n",
      "  if np.issubdtype(vec.dtype, np.int):\n"
     ]
    },
    {
     "data": {
      "text/plain": [
       "[('All Dogs Go to Heaven 2', 0.9260742664337158),\n",
       " ('Land Before Time III: The Time of the Great Giving', 0.918289303779602),\n",
       " ('The Care Bears Movie', 0.8927395343780518),\n",
       " ('The Return of Jafar', 0.8905964493751526),\n",
       " (\"Look Who's Talking Too\", 0.8898681402206421),\n",
       " ('Free Willy 2: The Adventure Home', 0.8858574032783508),\n",
       " ('D-War (Dragon Wars)', 0.8841818571090698),\n",
       " ('Dunston Checks In', 0.8801975250244141),\n",
       " ('Homeward Bound II: Lost in San Francisco', 0.876905083656311),\n",
       " (\"Beethoven's 2nd\", 0.8767789602279663)]"
      ]
     },
     "execution_count": 17,
     "metadata": {},
     "output_type": "execute_result"
    }
   ],
   "source": [
    "kv.most_similar(\n",
    "    [k('Pocahontas'), k('Cars 2')],\n",
    "    negative = [k('Brave')]\n",
    ")"
   ]
  },
  {
   "cell_type": "markdown",
   "metadata": {},
   "source": [
    "This weakly fits our prediction: the 4 closest movies are indeed kids animated movies from the 90s. After that, the results are a bit more perplexing.\n",
    "\n",
    "Is our model wrong, or were we? Another difference we failed to account for between *Cars 2* and *Brave* is that the former is a sequel, and the latter is not. 7/10 of our results are also sequels. This tells us something interesting about our learned embeddings (and, ultimately, about the problem of predicting movie preferences). \"Sequelness\" is an important property to our model - which suggests that some of the variance in our data is accounted for the fact that some people tend to like sequels more than others."
   ]
  },
  {
   "cell_type": "markdown",
   "metadata": {},
   "source": [
    "# Your Turn\n",
    "\n",
    "**TODO: link**"
   ]
  },
  {
   "cell_type": "code",
   "execution_count": null,
   "metadata": {},
   "outputs": [
    {
     "name": "stderr",
     "output_type": "stream",
     "text": [
      "/home/colinmorris/.local/lib/python3.5/site-packages/gensim/matutils.py:737: FutureWarning: Conversion of the second argument of issubdtype from `int` to `np.signedinteger` is deprecated. In future, it will be treated as `np.int64 == np.dtype(int).type`.\n",
      "  if np.issubdtype(vec.dtype, np.int):\n"
     ]
    },
    {
     "data": {
      "text/plain": [
       "[('Star Wars: Episode II - Attack of the Clones', 0.9800273776054382),\n",
       " ('Star Wars: Episode III - Revenge of the Sith', 0.9170121550559998),\n",
       " ('The Matrix Revolutions', 0.8769842386245728),\n",
       " ('The Matrix Reloaded', 0.8610888719558716),\n",
       " ('Star Wars: The Clone Wars', 0.8049086928367615),\n",
       " ('Indiana Jones and the Kingdom of the Crystal Skull', 0.7697553634643555),\n",
       " ('Star Trek: Nemesis', 0.7504496574401855),\n",
       " ('Final Fantasy: The Spirits Within', 0.7422045469284058),\n",
       " ('Star Trek: Insurrection', 0.7172819972038269),\n",
       " ('Van Helsing', 0.7123873829841614)]"
      ]
     },
     "execution_count": 20,
     "metadata": {},
     "output_type": "execute_result"
    }
   ],
   "source": [
    "# scratch space below - please ignore\n",
    "\n",
    "kv.most_similar(k('Star Wars: Episode I - The Phantom Menace'))"
   ]
  },
  {
   "cell_type": "code",
   "execution_count": null,
   "metadata": {},
   "outputs": [
    {
     "name": "stderr",
     "output_type": "stream",
     "text": [
      "/home/colinmorris/.local/lib/python3.5/site-packages/gensim/matutils.py:737: FutureWarning: Conversion of the second argument of issubdtype from `int` to `np.signedinteger` is deprecated. In future, it will be treated as `np.int64 == np.dtype(int).type`.\n",
      "  if np.issubdtype(vec.dtype, np.int):\n"
     ]
    },
    {
     "data": {
      "text/plain": [
       "[('Harry Potter and the Prisoner of Azkaban', 0.9866541624069214),\n",
       " ('Harry Potter and the Order of the Phoenix', 0.9812498688697815),\n",
       " ('Harry Potter and the Chamber of Secrets', 0.977340042591095),\n",
       " (\"Harry Potter and the Sorcerer's Stone (a.k.a. Harry Potter and the Philosopher's Stone)\",\n",
       "  0.9772845506668091),\n",
       " ('Harry Potter and the Half-Blood Prince', 0.9711997509002686),\n",
       " ('Harry Potter and the Deathly Hallows: Part 1', 0.9447852373123169),\n",
       " ('Harry Potter and the Deathly Hallows: Part 2', 0.9428168535232544),\n",
       " ('The Chronicles of Narnia: The Lion, the Witch and the Wardrobe',\n",
       "  0.7831770181655884),\n",
       " ('The Hunger Games: Catching Fire', 0.7747126221656799),\n",
       " ('X2: X-Men United', 0.70066899061203)]"
      ]
     },
     "execution_count": 21,
     "metadata": {},
     "output_type": "execute_result"
    }
   ],
   "source": [
    "kv.most_similar(k('Harry Potter and the Goblet of Fire'))"
   ]
  },
  {
   "cell_type": "code",
   "execution_count": null,
   "metadata": {},
   "outputs": [
    {
     "name": "stderr",
     "output_type": "stream",
     "text": [
      "/home/colinmorris/.local/lib/python3.5/site-packages/gensim/matutils.py:737: FutureWarning: Conversion of the second argument of issubdtype from `int` to `np.signedinteger` is deprecated. In future, it will be treated as `np.int64 == np.dtype(int).type`.\n",
      "  if np.issubdtype(vec.dtype, np.int):\n"
     ]
    },
    {
     "data": {
      "text/plain": [
       "[('Harry Potter and the Prisoner of Azkaban', 0.9866541624069214),\n",
       " ('Harry Potter and the Order of the Phoenix', 0.9812498688697815),\n",
       " ('Harry Potter and the Chamber of Secrets', 0.977340042591095),\n",
       " (\"Harry Potter and the Sorcerer's Stone (a.k.a. Harry Potter and the Philosopher's Stone)\",\n",
       "  0.9772845506668091),\n",
       " ('Harry Potter and the Half-Blood Prince', 0.9711997509002686),\n",
       " ('Harry Potter and the Deathly Hallows: Part 1', 0.9447852373123169),\n",
       " ('Harry Potter and the Deathly Hallows: Part 2', 0.9428168535232544),\n",
       " ('The Chronicles of Narnia: The Lion, the Witch and the Wardrobe',\n",
       "  0.7831770181655884),\n",
       " ('The Hunger Games: Catching Fire', 0.7747126221656799),\n",
       " ('X2: X-Men United', 0.70066899061203)]"
      ]
     },
     "execution_count": 22,
     "metadata": {},
     "output_type": "execute_result"
    }
   ],
   "source": [
    "kv.most_similar(k('Harry Potter and the Goblet of Fire'))"
   ]
  },
  {
   "cell_type": "code",
   "execution_count": null,
   "metadata": {},
   "outputs": [
    {
     "name": "stderr",
     "output_type": "stream",
     "text": [
      "/home/colinmorris/.local/lib/python3.5/site-packages/gensim/matutils.py:737: FutureWarning: Conversion of the second argument of issubdtype from `int` to `np.signedinteger` is deprecated. In future, it will be treated as `np.int64 == np.dtype(int).type`.\n",
      "  if np.issubdtype(vec.dtype, np.int):\n"
     ]
    },
    {
     "data": {
      "text/plain": [
       "[('Harry Potter and the Deathly Hallows: Part 1', 0.9689458608627319),\n",
       " ('Harry Potter and the Half-Blood Prince', 0.9586865901947021),\n",
       " ('Harry Potter and the Prisoner of Azkaban', 0.9516866207122803),\n",
       " ('Harry Potter and the Order of the Phoenix', 0.9504743814468384),\n",
       " ('Harry Potter and the Goblet of Fire', 0.9428168535232544),\n",
       " (\"Harry Potter and the Sorcerer's Stone (a.k.a. Harry Potter and the Philosopher's Stone)\",\n",
       "  0.8973463177680969),\n",
       " ('Harry Potter and the Chamber of Secrets', 0.8862634897232056),\n",
       " ('The Hunger Games: Catching Fire', 0.8423014879226685),\n",
       " ('How to Train Your Dragon 2', 0.7677023410797119),\n",
       " ('The Hunger Games', 0.7418676614761353)]"
      ]
     },
     "execution_count": 23,
     "metadata": {},
     "output_type": "execute_result"
    }
   ],
   "source": [
    "kv.most_similar(k('Harry Potter and the Deathly Hallows: Part 2'))"
   ]
  },
  {
   "cell_type": "code",
   "execution_count": null,
   "metadata": {},
   "outputs": [
    {
     "name": "stderr",
     "output_type": "stream",
     "text": [
      "/home/colinmorris/.local/lib/python3.5/site-packages/gensim/matutils.py:737: FutureWarning: Conversion of the second argument of issubdtype from `int` to `np.signedinteger` is deprecated. In future, it will be treated as `np.int64 == np.dtype(int).type`.\n",
      "  if np.issubdtype(vec.dtype, np.int):\n"
     ]
    },
    {
     "data": {
      "text/plain": [
       "0.05718313750864279"
      ]
     },
     "execution_count": 24,
     "metadata": {},
     "output_type": "execute_result"
    }
   ],
   "source": [
    "kv.distance(\n",
    "    k('Harry Potter and the Goblet of Fire'),\n",
    "    k('Harry Potter and the Deathly Hallows: Part 2'),\n",
    ")"
   ]
  },
  {
   "cell_type": "code",
   "execution_count": null,
   "metadata": {},
   "outputs": [
    {
     "name": "stdout",
     "output_type": "stream",
     "text": [
      "Harry Potter and the Goblet of Fire\n",
      "Harry Potter and the Deathly Hallows: Part 2\n"
     ]
    }
   ],
   "source": [
    "print(\n",
    "    k('Harry Potter and the Goblet of Fire'),\n",
    "    k('Harry Potter and the Deathly Hallows: Part 2'),\n",
    "    sep='\\n',\n",
    ")"
   ]
  },
  {
   "cell_type": "code",
   "execution_count": null,
   "metadata": {},
   "outputs": [
    {
     "ename": "KeyError",
     "evalue": "'Harry Potter and the Deathly Hallows: Part 2 (2011)'",
     "output_type": "error",
     "traceback": [
      "\u001b[0;31m---------------------------------------------------------------------------\u001b[0m",
      "\u001b[0;31mKeyError\u001b[0m                                  Traceback (most recent call last)",
      "\u001b[0;32m<ipython-input-26-2e3b99e065bd>\u001b[0m in \u001b[0;36m<module>\u001b[0;34m()\u001b[0m\n\u001b[0;32m----> 1\u001b[0;31m \u001b[0mv\u001b[0m \u001b[0;34m=\u001b[0m \u001b[0mkv\u001b[0m\u001b[0;34m.\u001b[0m\u001b[0mvocab\u001b[0m\u001b[0;34m[\u001b[0m\u001b[0;34m'Harry Potter and the Deathly Hallows: Part 2 (2011)'\u001b[0m\u001b[0;34m]\u001b[0m\u001b[0;34m\u001b[0m\u001b[0m\n\u001b[0m\u001b[1;32m      2\u001b[0m \u001b[0mprint\u001b[0m\u001b[0;34m(\u001b[0m\u001b[0mv\u001b[0m\u001b[0;34m.\u001b[0m\u001b[0mcount\u001b[0m\u001b[0;34m,\u001b[0m \u001b[0mv\u001b[0m\u001b[0;34m.\u001b[0m\u001b[0mindex\u001b[0m\u001b[0;34m)\u001b[0m\u001b[0;34m\u001b[0m\u001b[0m\n",
      "\u001b[0;31mKeyError\u001b[0m: 'Harry Potter and the Deathly Hallows: Part 2 (2011)'"
     ]
    }
   ],
   "source": [
    "v = kv.vocab['Harry Potter and the Deathly Hallows: Part 2 (2011)']\n",
    "print(v.count, v.index)"
   ]
  },
  {
   "cell_type": "code",
   "execution_count": null,
   "metadata": {},
   "outputs": [],
   "source": []
  },
  {
   "cell_type": "code",
   "execution_count": null,
   "metadata": {},
   "outputs": [],
   "source": [
    "df = mainstream_movies\n",
    "key_counts = df['key'].value_counts()\n",
    "key_counts[key_counts > 1]"
   ]
  },
  {
   "cell_type": "code",
   "execution_count": null,
   "metadata": {},
   "outputs": [],
   "source": [
    "\n",
    "df[df.title.str.contains('Harry Potter')]"
   ]
  }
 ],
 "metadata": {
  "kernelspec": {
   "display_name": "Python 3",
   "language": "python",
   "name": "python3"
  },
  "language_info": {
   "codemirror_mode": {
    "name": "ipython",
    "version": 3
   },
   "file_extension": ".py",
   "mimetype": "text/x-python",
   "name": "python",
   "nbconvert_exporter": "python",
   "pygments_lexer": "ipython3",
   "version": "3.6.5"
  },
  "learntools_metadata": {
   "lesson_index": 2,
   "type": "tutorial"
  }
 },
 "nbformat": 4,
 "nbformat_minor": 2
}
