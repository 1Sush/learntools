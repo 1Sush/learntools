{
 "cells": [
  {
   "cell_type": "markdown",
   "metadata": {},
   "source": [
    "The model trained in this notebook is the best performing model I was able to get (on the task of MovieLens rating prediction) after a bit of experimentation with hyperparameters. It uses:\n",
    "- matrix factorization architecture\n",
    "- embedding size = 32\n",
    "- embedding L2 penalty\n",
    "- dropout (applied to embedding vectors)\n",
    "\n",
    "It's used for lessons 3 and 4 of the embeddings course, which are on exploring learned embeddings with Gensim and t-SNE, respectively. (On the assumption that the model with the best error will probably have the 'best' embeddings, in terms of identifying interesting/useful latent properties.\n",
    "\n",
    "TODO: I imagine there could still be some further gains with a little more experimentation.\n",
    "- Training and val errors are so close, I wonder about cutting dropout prob in half or something\n",
    "- And/or doubling embedding size\n",
    "- Adding biases back in?"
   ]
  },
  {
   "cell_type": "code",
   "execution_count": null,
   "metadata": {},
   "outputs": [],
   "source": [
    "import numpy as np\n",
    "import pandas as pd\n",
    "from matplotlib import pyplot as plt\n",
    "import tensorflow as tf\n",
    "from tensorflow import keras\n",
    "import os\n",
    "import random\n",
    "\n",
    "RUNNING_ON_KERNELS = 'KAGGLE_WORKING_DIR' in os.environ\n",
    "input_dir = '../input' if RUNNING_ON_KERNELS else '../input/movielens_preprocessed'\n",
    "ratings_path = os.path.join(input_dir, 'rating.csv')\n",
    "df = pd.read_csv(ratings_path, usecols=['userId', 'movieId', 'rating', 'y'])\n",
    "\n",
    "tf.set_random_seed(1); np.random.seed(1); random.seed(1)"
   ]
  },
  {
   "cell_type": "code",
   "execution_count": null,
   "metadata": {},
   "outputs": [
    {
     "name": "stdout",
     "output_type": "stream",
     "text": [
      "Train on 19000249 samples, validate on 1000014 samples\n",
      "Epoch 1/10\n",
      " - 217s - loss: 0.8603 - mean_absolute_error: 0.7153 - val_loss: 0.7418 - val_mean_absolute_error: 0.6529\n",
      "Epoch 2/10\n",
      " - 209s - loss: 0.7306 - mean_absolute_error: 0.6472 - val_loss: 0.7112 - val_mean_absolute_error: 0.6358\n",
      "Epoch 3/10\n",
      " - 213s - loss: 0.7061 - mean_absolute_error: 0.6342 - val_loss: 0.6933 - val_mean_absolute_error: 0.6261\n",
      "Epoch 4/10\n",
      " - 202s - loss: 0.6885 - mean_absolute_error: 0.6249 - val_loss: 0.6792 - val_mean_absolute_error: 0.6184\n",
      "Epoch 5/10\n",
      " - 205s - loss: 0.6744 - mean_absolute_error: 0.6175 - val_loss: 0.6688 - val_mean_absolute_error: 0.6126\n",
      "Epoch 6/10\n",
      " - 184s - loss: 0.6635 - mean_absolute_error: 0.6116 - val_loss: 0.6614 - val_mean_absolute_error: 0.6083\n",
      "Epoch 7/10\n",
      " - 197s - loss: 0.6547 - mean_absolute_error: 0.6068 - val_loss: 0.6559 - val_mean_absolute_error: 0.6049\n",
      "Epoch 8/10\n",
      " - 197s - loss: 0.6480 - mean_absolute_error: 0.6031 - val_loss: 0.6518 - val_mean_absolute_error: 0.6024\n",
      "Epoch 9/10\n",
      " - 207s - loss: 0.6427 - mean_absolute_error: 0.6001 - val_loss: 0.6489 - val_mean_absolute_error: 0.6005\n",
      "Epoch 10/10\n",
      " - 224s - loss: 0.6384 - mean_absolute_error: 0.5976 - val_loss: 0.6467 - val_mean_absolute_error: 0.5990\n"
     ]
    }
   ],
   "source": [
    "movie_embedding_size = user_embedding_size = 32\n",
    "user_id_input = keras.Input(shape=(1,), name='user_id')\n",
    "movie_id_input = keras.Input(shape=(1,), name='movie_id')\n",
    "movie_r12n = keras.regularizers.l1_l2(l1=0, l2=1e-6)\n",
    "user_r12n = keras.regularizers.l1_l2(l1=0, l2=1e-7)\n",
    "dropout = .2\n",
    "user_embedded = keras.layers.Embedding(df.userId.max()+1, user_embedding_size,\n",
    "                                       embeddings_initializer='glorot_uniform',\n",
    "                                       embeddings_regularizer=user_r12n,\n",
    "                                       input_length=1, name='user_embedding')(user_id_input)\n",
    "user_embedded = keras.layers.Dropout(dropout)(user_embedded)\n",
    "movie_embedded = keras.layers.Embedding(df.movieId.max()+1, movie_embedding_size, \n",
    "                                        embeddings_initializer='glorot_uniform',\n",
    "                                        embeddings_regularizer=movie_r12n,\n",
    "                                        input_length=1, name='movie_embedding')(movie_id_input)\n",
    "movie_embedded = keras.layers.Dropout(dropout)(movie_embedded)\n",
    "\n",
    "dotted = keras.layers.Dot(2)([user_embedded, movie_embedded])\n",
    "out = keras.layers.Flatten()(dotted)\n",
    "\n",
    "biases = 0\n",
    "if biases:\n",
    "    bias_r12n = None\n",
    "    bias_r12n = keras.regularizers.l1_l2(l1=1e-4, l2=1e-7) # XXX 1e-6 -> 1e-4\n",
    "    bias_init = 'zeros'\n",
    "    movie_b = keras.layers.Embedding(df.movieId.max()+1, 1, \n",
    "                                             name='movie_bias',\n",
    "                                             embeddings_initializer=bias_init,\n",
    "                                             embeddings_regularizer=bias_r12n,\n",
    "                                            )(movie_id_input)\n",
    "    movie_b = keras.layers.Flatten()(movie_b)\n",
    "\n",
    "    user_b = keras.layers.Embedding(df.userId.max()+1, 1, \n",
    "                                             name='user_bias',\n",
    "                                             embeddings_initializer=bias_init,\n",
    "                                             embeddings_regularizer=bias_r12n,\n",
    "                                            )(user_id_input)\n",
    "    user_b = keras.layers.Flatten()(user_b)\n",
    "    out = keras.layers.Add()([user_b, movie_b, out])\n",
    "\n",
    "model = keras.Model(\n",
    "    inputs = [user_id_input, movie_id_input],\n",
    "    outputs = out,\n",
    ")\n",
    "model.compile(\n",
    "    tf.train.AdamOptimizer(0.001),\n",
    "    loss='MSE',\n",
    "    metrics=['MAE'],\n",
    ")\n",
    "\n",
    "tf.set_random_seed(1); np.random.seed(1); random.seed(1)\n",
    "history = model.fit(\n",
    "    [df.userId, df.movieId],\n",
    "    df.y,\n",
    "    batch_size=10**4,\n",
    "    epochs=30,\n",
    "    verbose=2,\n",
    "    validation_split=.05,\n",
    ");"
   ]
  },
  {
   "cell_type": "code",
   "execution_count": null,
   "metadata": {},
   "outputs": [
    {
     "name": "stdout",
     "output_type": "stream",
     "text": [
      "WARNING:tensorflow:TensorFlow optimizers do not make it possible to access optimizer attributes or optimizer state after instantiation. As a result, we cannot save the optimizer as part of the model save file.You will have to compile your model again after loading it. Prefer using a Keras optimizer instead (see keras.io/optimizers).\n"
     ]
    }
   ],
   "source": [
    "model.save('movie_svd_model_32.h5')"
   ]
  }
 ],
 "metadata": {
  "kernelspec": {
   "display_name": "Python 3",
   "language": "python",
   "name": "python3"
  },
  "language_info": {
   "codemirror_mode": {
    "name": "ipython",
    "version": 3
   },
   "file_extension": ".py",
   "mimetype": "text/x-python",
   "name": "python",
   "nbconvert_exporter": "python",
   "pygments_lexer": "ipython3",
   "version": "3.6.5"
  },
  "learntools_metadata": {
   "lesson_index": -2,
   "type": "tutorial"
  }
 },
 "nbformat": 4,
 "nbformat_minor": 2
}
